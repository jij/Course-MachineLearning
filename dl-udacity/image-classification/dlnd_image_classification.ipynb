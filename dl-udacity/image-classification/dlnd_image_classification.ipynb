{
 "cells": [
  {
   "cell_type": "markdown",
   "metadata": {
    "collapsed": true,
    "deletable": true,
    "editable": true
   },
   "source": [
    "# Image Classification\n",
    "In this project, you'll classify images from the [CIFAR-10 dataset](https://www.cs.toronto.edu/~kriz/cifar.html).  The dataset consists of airplanes, dogs, cats, and other objects. You'll preprocess the images, then train a convolutional neural network on all the samples. The images need to be normalized and the labels need to be one-hot encoded.  You'll get to apply what you learned and build a convolutional, max pooling, dropout, and fully connected layers.  At the end, you'll get to see your neural network's predictions on the sample images.\n",
    "## Get the Data\n",
    "Run the following cell to download the [CIFAR-10 dataset for python](https://www.cs.toronto.edu/~kriz/cifar-10-python.tar.gz)."
   ]
  },
  {
   "cell_type": "code",
   "execution_count": 49,
   "metadata": {
    "collapsed": false,
    "deletable": true,
    "editable": true
   },
   "outputs": [
    {
     "name": "stdout",
     "output_type": "stream",
     "text": [
      "All files found!\n"
     ]
    }
   ],
   "source": [
    "\"\"\"\n",
    "DON'T MODIFY ANYTHING IN THIS CELL THAT IS BELOW THIS LINE\n",
    "\"\"\"\n",
    "from urllib.request import urlretrieve\n",
    "from os.path import isfile, isdir\n",
    "from tqdm import tqdm\n",
    "import problem_unittests as tests\n",
    "import tarfile\n",
    "\n",
    "cifar10_dataset_folder_path = 'cifar-10-batches-py'\n",
    "\n",
    "# Use Floyd's cifar-10 dataset if present\n",
    "floyd_cifar10_location = '/input/cifar-10/python.tar.gz'\n",
    "if isfile(floyd_cifar10_location):\n",
    "    tar_gz_path = floyd_cifar10_location\n",
    "else:\n",
    "    tar_gz_path = 'cifar-10-python.tar.gz'\n",
    "\n",
    "class DLProgress(tqdm):\n",
    "    last_block = 0\n",
    "\n",
    "    def hook(self, block_num=1, block_size=1, total_size=None):\n",
    "        self.total = total_size\n",
    "        self.update((block_num - self.last_block) * block_size)\n",
    "        self.last_block = block_num\n",
    "\n",
    "if not isfile(tar_gz_path):\n",
    "    with DLProgress(unit='B', unit_scale=True, miniters=1, desc='CIFAR-10 Dataset') as pbar:\n",
    "        urlretrieve(\n",
    "            'https://www.cs.toronto.edu/~kriz/cifar-10-python.tar.gz',\n",
    "            tar_gz_path,\n",
    "            pbar.hook)\n",
    "\n",
    "if not isdir(cifar10_dataset_folder_path):\n",
    "    with tarfile.open(tar_gz_path) as tar:\n",
    "        tar.extractall()\n",
    "        tar.close()\n",
    "\n",
    "\n",
    "tests.test_folder_path(cifar10_dataset_folder_path)"
   ]
  },
  {
   "cell_type": "markdown",
   "metadata": {
    "deletable": true,
    "editable": true
   },
   "source": [
    "## Explore the Data\n",
    "The dataset is broken into batches to prevent your machine from running out of memory.  The CIFAR-10 dataset consists of 5 batches, named `data_batch_1`, `data_batch_2`, etc.. Each batch contains the labels and images that are one of the following:\n",
    "* airplane\n",
    "* automobile\n",
    "* bird\n",
    "* cat\n",
    "* deer\n",
    "* dog\n",
    "* frog\n",
    "* horse\n",
    "* ship\n",
    "* truck\n",
    "\n",
    "Understanding a dataset is part of making predictions on the data.  Play around with the code cell below by changing the `batch_id` and `sample_id`. The `batch_id` is the id for a batch (1-5). The `sample_id` is the id for a image and label pair in the batch.\n",
    "\n",
    "Ask yourself \"What are all possible labels?\", \"What is the range of values for the image data?\", \"Are the labels in order or random?\".  Answers to questions like these will help you preprocess the data and end up with better predictions."
   ]
  },
  {
   "cell_type": "code",
   "execution_count": 50,
   "metadata": {
    "collapsed": false,
    "deletable": true,
    "editable": true
   },
   "outputs": [
    {
     "name": "stdout",
     "output_type": "stream",
     "text": [
      "\n",
      "Stats of batch 2:\n",
      "Samples: 10000\n",
      "Label Counts: {0: 984, 1: 1007, 2: 1010, 3: 995, 4: 1010, 5: 988, 6: 1008, 7: 1026, 8: 987, 9: 985}\n",
      "First 20 Labels: [1, 6, 6, 8, 8, 3, 4, 6, 0, 6, 0, 3, 6, 6, 5, 4, 8, 3, 2, 6]\n",
      "\n",
      "Example of Image 500:\n",
      "Image - Min Value: 13 Max Value: 218\n",
      "Image - Shape: (32, 32, 3)\n",
      "Label - Label Id: 4 Name: deer\n"
     ]
    },
    {
     "data": {
      "image/png": "[encoded data removed]",
      "text/plain": [
       "<matplotlib.figure.Figure at 0x7f98c1c80668>"
      ]
     },
     "metadata": {
      "image/png": {
       "height": 250,
       "width": 253
      }
     },
     "output_type": "display_data"
    }
   ],
   "source": [
    "%matplotlib inline\n",
    "%config InlineBackend.figure_format = 'retina'\n",
    "\n",
    "import helper\n",
    "import numpy as np\n",
    "\n",
    "# Explore the dataset\n",
    "batch_id = 2\n",
    "sample_id = 500\n",
    "helper.display_stats(cifar10_dataset_folder_path, batch_id, sample_id)"
   ]
  },
  {
   "cell_type": "markdown",
   "metadata": {
    "deletable": true,
    "editable": true
   },
   "source": [
    "## Implement Preprocess Functions\n",
    "### Normalize\n",
    "In the cell below, implement the `normalize` function to take in image data, `x`, and return it as a normalized Numpy array. The values should be in the range of 0 to 1, inclusive.  The return object should be the same shape as `x`."
   ]
  },
  {
   "cell_type": "code",
   "execution_count": 51,
   "metadata": {
    "collapsed": false,
    "deletable": true,
    "editable": true
   },
   "outputs": [
    {
     "name": "stdout",
     "output_type": "stream",
     "text": [
      "Tests Passed\n"
     ]
    }
   ],
   "source": [
    "def normalize(x):\n",
    "    \"\"\"\n",
    "    Normalize a list of sample image data in the range of 0 to 1\n",
    "    : x: List of image data.  The image shape is (32, 32, 3)\n",
    "    : return: Numpy array of normalize data\n",
    "    \"\"\"\n",
    "    # TODO: Implement Function\n",
    "    min = np.min(x) # 0\n",
    "    max = np.max(x) # 255\n",
    "    return (x-min)/(max-min) # can be simplified as x/255\n",
    "\n",
    "\"\"\"\n",
    "DON'T MODIFY ANYTHING IN THIS CELL THAT IS BELOW THIS LINE\n",
    "\"\"\"\n",
    "tests.test_normalize(normalize)"
   ]
  },
  {
   "cell_type": "markdown",
   "metadata": {
    "deletable": true,
    "editable": true
   },
   "source": [
    "### One-hot encode\n",
    "Just like the previous code cell, you'll be implementing a function for preprocessing.  This time, you'll implement the `one_hot_encode` function. The input, `x`, are a list of labels.  Implement the function to return the list of labels as One-Hot encoded Numpy array.  The possible values for labels are 0 to 9. The one-hot encoding function should return the same encoding for each value between each call to `one_hot_encode`.  Make sure to save the map of encodings outside the function.\n",
    "\n",
    "Hint: Don't reinvent the wheel."
   ]
  },
  {
   "cell_type": "code",
   "execution_count": 52,
   "metadata": {
    "collapsed": false,
    "deletable": true,
    "editable": true
   },
   "outputs": [
    {
     "name": "stdout",
     "output_type": "stream",
     "text": [
      "Tests Passed\n"
     ]
    }
   ],
   "source": [
    "def one_hot_encode(x):\n",
    "    \"\"\"\n",
    "    One hot encode a list of sample labels. Return a one-hot encoded vector for each label.\n",
    "    : x: List of sample Labels\n",
    "    : return: Numpy array of one-hot encoded labels\n",
    "    \"\"\"\n",
    "    # TODO: Implement Function\n",
    "    max_vals = 10\n",
    "    return np.eye(max_vals)[x]\n",
    "\n",
    "\n",
    "\"\"\"\n",
    "DON'T MODIFY ANYTHING IN THIS CELL THAT IS BELOW THIS LINE\n",
    "\"\"\"\n",
    "tests.test_one_hot_encode(one_hot_encode)"
   ]
  },
  {
   "cell_type": "markdown",
   "metadata": {
    "deletable": true,
    "editable": true
   },
   "source": [
    "### Randomize Data\n",
    "As you saw from exploring the data above, the order of the samples are randomized.  It doesn't hurt to randomize it again, but you don't need to for this dataset."
   ]
  },
  {
   "cell_type": "markdown",
   "metadata": {
    "deletable": true,
    "editable": true
   },
   "source": [
    "## Preprocess all the data and save it\n",
    "Running the code cell below will preprocess all the CIFAR-10 data and save it to file. The code below also uses 10% of the training data for validation."
   ]
  },
  {
   "cell_type": "code",
   "execution_count": 53,
   "metadata": {
    "collapsed": false,
    "deletable": true,
    "editable": true
   },
   "outputs": [],
   "source": [
    "\"\"\"\n",
    "DON'T MODIFY ANYTHING IN THIS CELL\n",
    "\"\"\"\n",
    "# Preprocess Training, Validation, and Testing Data\n",
    "helper.preprocess_and_save_data(cifar10_dataset_folder_path, normalize, one_hot_encode)"
   ]
  },
  {
   "cell_type": "markdown",
   "metadata": {
    "deletable": true,
    "editable": true
   },
   "source": [
    "# Check Point\n",
    "This is your first checkpoint.  If you ever decide to come back to this notebook or have to restart the notebook, you can start from here.  The preprocessed data has been saved to disk."
   ]
  },
  {
   "cell_type": "code",
   "execution_count": 4,
   "metadata": {
    "collapsed": true,
    "deletable": true,
    "editable": true
   },
   "outputs": [],
   "source": [
    "\"\"\"\n",
    "DON'T MODIFY ANYTHING IN THIS CELL\n",
    "\"\"\"\n",
    "import pickle\n",
    "import problem_unittests as tests\n",
    "import helper\n",
    "\n",
    "# Load the Preprocessed Validation data\n",
    "valid_features, valid_labels = pickle.load(open('preprocess_validation.p', mode='rb'))"
   ]
  },
  {
   "cell_type": "markdown",
   "metadata": {
    "deletable": true,
    "editable": true
   },
   "source": [
    "## Build the network\n",
    "For the neural network, you'll build each layer into a function.  Most of the code you've seen has been outside of functions. To test your code more thoroughly, we require that you put each layer in a function.  This allows us to give you better feedback and test for simple mistakes using our unittests before you submit your project.\n",
    "\n",
    ">**Note:** If you're finding it hard to dedicate enough time for this course each week, we've provided a small shortcut to this part of the project. In the next couple of problems, you'll have the option to use classes from the [TensorFlow Layers](https://www.tensorflow.org/api_docs/python/tf/layers) or [TensorFlow Layers (contrib)](https://www.tensorflow.org/api_guides/python/contrib.layers) packages to build each layer, except the layers you build in the \"Convolutional and Max Pooling Layer\" section.  TF Layers is similar to Keras's and TFLearn's abstraction to layers, so it's easy to pickup.\n",
    "\n",
    ">However, if you would like to get the most out of this course, try to solve all the problems _without_ using anything from the TF Layers packages. You **can** still use classes from other packages that happen to have the same name as ones you find in TF Layers! For example, instead of using the TF Layers version of the `conv2d` class, [tf.layers.conv2d](https://www.tensorflow.org/api_docs/python/tf/layers/conv2d), you would want to use the TF Neural Network version of `conv2d`, [tf.nn.conv2d](https://www.tensorflow.org/api_docs/python/tf/nn/conv2d). \n",
    "\n",
    "Let's begin!\n",
    "\n",
    "### Input\n",
    "The neural network needs to read the image data, one-hot encoded labels, and dropout keep probability. Implement the following functions\n",
    "* Implement `neural_net_image_input`\n",
    " * Return a [TF Placeholder](https://www.tensorflow.org/api_docs/python/tf/placeholder)\n",
    " * Set the shape using `image_shape` with batch size set to `None`.\n",
    " * Name the TensorFlow placeholder \"x\" using the TensorFlow `name` parameter in the [TF Placeholder](https://www.tensorflow.org/api_docs/python/tf/placeholder).\n",
    "* Implement `neural_net_label_input`\n",
    " * Return a [TF Placeholder](https://www.tensorflow.org/api_docs/python/tf/placeholder)\n",
    " * Set the shape using `n_classes` with batch size set to `None`.\n",
    " * Name the TensorFlow placeholder \"y\" using the TensorFlow `name` parameter in the [TF Placeholder](https://www.tensorflow.org/api_docs/python/tf/placeholder).\n",
    "* Implement `neural_net_keep_prob_input`\n",
    " * Return a [TF Placeholder](https://www.tensorflow.org/api_docs/python/tf/placeholder) for dropout keep probability.\n",
    " * Name the TensorFlow placeholder \"keep_prob\" using the TensorFlow `name` parameter in the [TF Placeholder](https://www.tensorflow.org/api_docs/python/tf/placeholder).\n",
    "\n",
    "These names will be used at the end of the project to load your saved model.\n",
    "\n",
    "Note: `None` for shapes in TensorFlow allow for a dynamic size."
   ]
  },
  {
   "cell_type": "code",
   "execution_count": 5,
   "metadata": {
    "collapsed": false,
    "deletable": true,
    "editable": true
   },
   "outputs": [
    {
     "name": "stdout",
     "output_type": "stream",
     "text": [
      "Image Input Tests Passed.\n",
      "Label Input Tests Passed.\n",
      "Keep Prob Tests Passed.\n"
     ]
    }
   ],
   "source": [
    "import tensorflow as tf\n",
    "\n",
    "def neural_net_image_input(image_shape):\n",
    "    \"\"\"\n",
    "    Return a Tensor for a batch of image input\n",
    "    : image_shape: Shape of the images\n",
    "    : return: Tensor for image input.\n",
    "    \"\"\"\n",
    "    # TODO: Implement Function\n",
    "    # return tf.placeholder(dtype=tf.float32, shape=[None, image_shape[0], image_shape[1], image_shape[2]], name=\"x\")\n",
    "    return tf.placeholder(tf.float32, [None, *image_shape], name='x')  # \n",
    "\n",
    "\n",
    "def neural_net_label_input(n_classes):\n",
    "    \"\"\"\n",
    "    Return a Tensor for a batch of label input\n",
    "    : n_classes: Number of classes\n",
    "    : return: Tensor for label input.\n",
    "    \"\"\"\n",
    "    # TODO: Implement Function\n",
    "    return tf.placeholder(tf.float32, [None, n_classes], name='y')\n",
    "\n",
    "def neural_net_keep_prob_input():\n",
    "    \"\"\"\n",
    "    Return a Tensor for keep probability\n",
    "    : return: Tensor for keep probability.\n",
    "    \"\"\"\n",
    "    # TODO: Implement Function\n",
    "    return tf.placeholder(tf.float32, name='keep_prob')\n",
    "\n",
    "\n",
    "\"\"\"\n",
    "DON'T MODIFY ANYTHING IN THIS CELL THAT IS BELOW THIS LINE\n",
    "\"\"\"\n",
    "tf.reset_default_graph()\n",
    "tests.test_nn_image_inputs(neural_net_image_input)\n",
    "tests.test_nn_label_inputs(neural_net_label_input)\n",
    "tests.test_nn_keep_prob_inputs(neural_net_keep_prob_input)"
   ]
  },
  {
   "cell_type": "markdown",
   "metadata": {
    "deletable": true,
    "editable": true
   },
   "source": [
    "### Convolution and Max Pooling Layer\n",
    "Convolution layers have a lot of success with images. For this code cell, you should implement the function `conv2d_maxpool` to apply convolution then max pooling:\n",
    "* Create the weight and bias using `conv_ksize`, `conv_num_outputs` and the shape of `x_tensor`.\n",
    "* Apply a convolution to `x_tensor` using weight and `conv_strides`.\n",
    " * We recommend you use same padding, but you're welcome to use any padding.\n",
    "* Add bias\n",
    "* Add a nonlinear activation to the convolution.\n",
    "* Apply Max Pooling using `pool_ksize` and `pool_strides`.\n",
    " * We recommend you use same padding, but you're welcome to use any padding.\n",
    "\n",
    "**Note:** You **can't** use [TensorFlow Layers](https://www.tensorflow.org/api_docs/python/tf/layers) or [TensorFlow Layers (contrib)](https://www.tensorflow.org/api_guides/python/contrib.layers) for **this** layer, but you can still use TensorFlow's [Neural Network](https://www.tensorflow.org/api_docs/python/tf/nn) package. You may still use the shortcut option for all the **other** layers."
   ]
  },
  {
   "cell_type": "code",
   "execution_count": 6,
   "metadata": {
    "collapsed": false,
    "deletable": true,
    "editable": true
   },
   "outputs": [
    {
     "name": "stdout",
     "output_type": "stream",
     "text": [
      "Tests Passed\n"
     ]
    }
   ],
   "source": [
    "def conv2d_maxpool(x_tensor, conv_num_outputs, conv_ksize, conv_strides, pool_ksize, pool_strides):\n",
    "    \"\"\"\n",
    "    Apply convolution then max pooling to x_tensor\n",
    "    :param x_tensor: TensorFlow Tensor\n",
    "    :param conv_num_outputs: Number of outputs for the convolutional layer\n",
    "    :param conv_ksize: kernal size 2-D Tuple for the convolutional layer\n",
    "    :param conv_strides: Stride 2-D Tuple for convolution\n",
    "    :param pool_ksize: kernal size 2-D Tuple for pool\n",
    "    :param pool_strides: Stride 2-D Tuple for pool\n",
    "    : return: A tensor that represents convolution and max pooling of x_tensor\n",
    "    \"\"\"\n",
    "    # TODO: Implement Function\n",
    "    input_shape = int(x_tensor.shape[3])\n",
    "    output_shape = conv_num_outputs\n",
    "    weight_shape = [*conv_ksize, input_shape, output_shape]\n",
    "    # Weights\n",
    "    w = tf.Variable(tf.random_normal(weight_shape, stddev=0.1))\n",
    "    # Bias\n",
    "    b = tf.Variable(tf.zeros(output_shape))\n",
    "    \n",
    "    # Initialize the 2d conv layer\n",
    "    output = tf.nn.conv2d(x_tensor, w, [1, *conv_strides, 1], padding=\"SAME\")\n",
    "        #add bias\n",
    "    output = tf.nn.bias_add(output, b)\n",
    "        #add nonlinear activation\n",
    "    output = tf.nn.relu(output)\n",
    "    \n",
    "    # Max pool\n",
    "    mp_strides = [1, *pool_strides, 1]\n",
    "    mp_ksize = [1, *conv_ksize, 1]\n",
    "    return tf.nn.max_pool(output, mp_ksize, mp_strides, padding=\"SAME\")\n",
    "\n",
    "\n",
    "\n",
    "\"\"\"\n",
    "DON'T MODIFY ANYTHING IN THIS CELL THAT IS BELOW THIS LINE\n",
    "\"\"\"\n",
    "tests.test_con_pool(conv2d_maxpool)"
   ]
  },
  {
   "cell_type": "markdown",
   "metadata": {
    "deletable": true,
    "editable": true
   },
   "source": [
    "### Flatten Layer\n",
    "Implement the `flatten` function to change the dimension of `x_tensor` from a 4-D tensor to a 2-D tensor.  The output should be the shape (*Batch Size*, *Flattened Image Size*). Shortcut option: you can use classes from the [TensorFlow Layers](https://www.tensorflow.org/api_docs/python/tf/layers) or [TensorFlow Layers (contrib)](https://www.tensorflow.org/api_guides/python/contrib.layers) packages for this layer. For more of a challenge, only use other TensorFlow packages."
   ]
  },
  {
   "cell_type": "code",
   "execution_count": 7,
   "metadata": {
    "collapsed": false,
    "deletable": true,
    "editable": true
   },
   "outputs": [
    {
     "name": "stdout",
     "output_type": "stream",
     "text": [
      "Tests Passed\n"
     ]
    }
   ],
   "source": [
    "def flatten(x_tensor):\n",
    "    \"\"\"\n",
    "    Flatten x_tensor to (Batch Size, Flattened Image Size)\n",
    "    : x_tensor: A tensor of size (Batch Size, ...), where ... are the image dimensions.\n",
    "    : return: A tensor of size (Batch Size, Flattened Image Size).\n",
    "    \"\"\"\n",
    "    # TODO: Implement Function\n",
    "    \n",
    "    # \n",
    "    \n",
    "    #batch_size, *img_size = x_tensor.get_shape().as_list() # [None, 10, 30, 6]\n",
    "    #dimension = img_size[0] * img_size[1] * img_size[2] # 18000\n",
    "    #return tf.reshape(x_tensor, [-1, (dimension)])\n",
    "\n",
    "    return tf.contrib.layers.flatten(x_tensor)\n",
    "\n",
    "\n",
    "\"\"\"\n",
    "DON'T MODIFY ANYTHING IN THIS CELL THAT IS BELOW THIS LINE\n",
    "\"\"\"\n",
    "tests.test_flatten(flatten)"
   ]
  },
  {
   "cell_type": "markdown",
   "metadata": {
    "deletable": true,
    "editable": true
   },
   "source": [
    "### Fully-Connected Layer\n",
    "Implement the `fully_conn` function to apply a fully connected layer to `x_tensor` with the shape (*Batch Size*, *num_outputs*). Shortcut option: you can use classes from the [TensorFlow Layers](https://www.tensorflow.org/api_docs/python/tf/layers) or [TensorFlow Layers (contrib)](https://www.tensorflow.org/api_guides/python/contrib.layers) packages for this layer. For more of a challenge, only use other TensorFlow packages."
   ]
  },
  {
   "cell_type": "code",
   "execution_count": 8,
   "metadata": {
    "collapsed": false,
    "deletable": true,
    "editable": true
   },
   "outputs": [
    {
     "name": "stdout",
     "output_type": "stream",
     "text": [
      "Tests Passed\n"
     ]
    }
   ],
   "source": [
    "def fully_conn(x_tensor, num_outputs):\n",
    "    \"\"\"\n",
    "    Apply a fully connected layer to x_tensor using weight and bias\n",
    "    : x_tensor: A 2-D tensor where the first dimension is batch size.\n",
    "    : num_outputs: The number of output that the new tensor should be.\n",
    "    : return: A 2-D tensor where the second dimension is num_outputs.\n",
    "    \"\"\"\n",
    "    # TODO: Implement Function\n",
    "    w_shape = (int(x_tensor.shape[1]), num_outputs)\n",
    "    w = tf.Variable(tf.random_normal(w_shape, stddev=0.1)) #weights \n",
    "    b = tf.Variable(tf.zeros(num_outputs)) #bias\n",
    "    output = tf.add(tf.matmul(x_tensor, w), b)\n",
    "    return tf.nn.relu(output)\n",
    "\n",
    "\n",
    "\"\"\"\n",
    "DON'T MODIFY ANYTHING IN THIS CELL THAT IS BELOW THIS LINE\n",
    "\"\"\"\n",
    "tests.test_fully_conn(fully_conn)"
   ]
  },
  {
   "cell_type": "markdown",
   "metadata": {
    "deletable": true,
    "editable": true
   },
   "source": [
    "### Output Layer\n",
    "Implement the `output` function to apply a fully connected layer to `x_tensor` with the shape (*Batch Size*, *num_outputs*). Shortcut option: you can use classes from the [TensorFlow Layers](https://www.tensorflow.org/api_docs/python/tf/layers) or [TensorFlow Layers (contrib)](https://www.tensorflow.org/api_guides/python/contrib.layers) packages for this layer. For more of a challenge, only use other TensorFlow packages.\n",
    "\n",
    "**Note:** Activation, softmax, or cross entropy should **not** be applied to this."
   ]
  },
  {
   "cell_type": "code",
   "execution_count": 11,
   "metadata": {
    "collapsed": false,
    "deletable": true,
    "editable": true
   },
   "outputs": [
    {
     "name": "stdout",
     "output_type": "stream",
     "text": [
      "Tests Passed\n"
     ]
    }
   ],
   "source": [
    "def output(x_tensor, num_outputs):\n",
    "    \"\"\"\n",
    "    Apply a output layer to x_tensor using weight and bias\n",
    "    : x_tensor: A 2-D tensor where the first dimension is batch size.\n",
    "    : num_outputs: The number of output that the new tensor should be.\n",
    "    : return: A 2-D tensor where the second dimension is num_outputs.\n",
    "    \"\"\"\n",
    "    # TODO: Implement Function\n",
    "    w_shape = (int(x_tensor.shape[1]), num_outputs)\n",
    "    w = tf.Variable(tf.random_normal(w_shape, stddev=0.1)) #weights \n",
    "    b = tf.Variable(tf.zeros(num_outputs)) #bias\n",
    "    \n",
    "    fc = tf.add(tf.matmul(x_tensor, w), b)\n",
    "    return fc\n",
    "\n",
    "\n",
    "\"\"\"\n",
    "DON'T MODIFY ANYTHING IN THIS CELL THAT IS BELOW THIS LINE\n",
    "\"\"\"\n",
    "tests.test_output(output)"
   ]
  },
  {
   "cell_type": "markdown",
   "metadata": {
    "deletable": true,
    "editable": true
   },
   "source": [
    "### Create Convolutional Model\n",
    "Implement the function `conv_net` to create a convolutional neural network model. The function takes in a batch of images, `x`, and outputs logits.  Use the layers you created above to create this model:\n",
    "\n",
    "* Apply 1, 2, or 3 Convolution and Max Pool layers\n",
    "* Apply a Flatten Layer\n",
    "* Apply 1, 2, or 3 Fully Connected Layers\n",
    "* Apply an Output Layer\n",
    "* Return the output\n",
    "* Apply [TensorFlow's Dropout](https://www.tensorflow.org/api_docs/python/tf/nn/dropout) to one or more layers in the model using `keep_prob`. "
   ]
  },
  {
   "cell_type": "code",
   "execution_count": 12,
   "metadata": {
    "collapsed": false,
    "deletable": true,
    "editable": true
   },
   "outputs": [
    {
     "name": "stdout",
     "output_type": "stream",
     "text": [
      "Neural Network Built!\n"
     ]
    }
   ],
   "source": [
    "def conv_net(x, keep_prob):\n",
    "    \"\"\"\n",
    "    Create a convolutional neural network model\n",
    "    : x: Placeholder tensor that holds image data.\n",
    "    : keep_prob: Placeholder tensor that hold dropout keep probability.\n",
    "    : return: Tensor that represents logits\n",
    "    \"\"\"\n",
    "    # TODO: Apply 1, 2, or 3 Convolution and Max Pool layers\n",
    "    #    Play around with different number of outputs, kernel size and stride\n",
    "    # Function Definition from Above:\n",
    "    #    conv2d_maxpool(x_tensor, conv_num_outputs, conv_ksize, conv_strides, pool_ksize, pool_strides)\n",
    "\n",
    "    \n",
    "    layer_1 = conv2d_maxpool(x, 32, (2, 2), (2, 2), (2, 2), (2, 2))\n",
    "    layer_2 = conv2d_maxpool(layer_1, 64, (4, 4), (1, 1), (2, 2), (2, 2))\n",
    "    layer_3 = conv2d_maxpool(layer_2, 64, (2, 2), (1, 1), (2, 2), (2, 2))\n",
    "\n",
    "    # TODO: Apply a Flatten Layer\n",
    "    # Function Definition from Above:\n",
    "    #   flatten(x_tensor)\n",
    "    flat_layer = flatten(layer_3) \n",
    "\n",
    "    # TODO: Apply 1, 2, or 3 Fully Connected Layers\n",
    "    #    Play around with different number of outputs\n",
    "    # Function Definition from Above:\n",
    "    #   fully_conn(x_tensor, num_outputs)\n",
    "    \n",
    "    \n",
    "    fc_layer_1 = fully_conn(flat_layer, 512)\n",
    "    fc_layer_1 = tf.nn.dropout(fc_layer_1, keep_prob)\n",
    "    \n",
    "    fc_layer_2 = fully_conn(fc_layer_1, 128)\n",
    "    fc_layer_2 = tf.nn.dropout(fc_layer_2, keep_prob)\n",
    "    \n",
    "    # TODO: Apply an Output Layer\n",
    "    #    Set this to the number of classes\n",
    "    # Function Definition from Above:\n",
    "    #   output(x_tensor, num_outputs)\n",
    "    output_layer = output(fc_layer_2, 10)\n",
    "    \n",
    "    # TODO: return output\n",
    "    return output_layer\n",
    "\n",
    "\n",
    "\"\"\"\n",
    "DON'T MODIFY ANYTHING IN THIS CELL THAT IS BELOW THIS LINE\n",
    "\"\"\"\n",
    "\n",
    "##############################\n",
    "## Build the Neural Network ##\n",
    "##############################\n",
    "\n",
    "# Remove previous weights, bias, inputs, etc..\n",
    "tf.reset_default_graph()\n",
    "\n",
    "# Inputs\n",
    "x = neural_net_image_input((32, 32, 3))\n",
    "y = neural_net_label_input(10)\n",
    "keep_prob = neural_net_keep_prob_input()\n",
    "\n",
    "# Model\n",
    "logits = conv_net(x, keep_prob)\n",
    "\n",
    "# Name logits Tensor, so that is can be loaded from disk after training\n",
    "logits = tf.identity(logits, name='logits')\n",
    "\n",
    "# Loss and Optimizer\n",
    "cost = tf.reduce_mean(tf.nn.softmax_cross_entropy_with_logits(logits=logits, labels=y))\n",
    "optimizer = tf.train.AdamOptimizer().minimize(cost)\n",
    "\n",
    "# Accuracy\n",
    "correct_pred = tf.equal(tf.argmax(logits, 1), tf.argmax(y, 1))\n",
    "accuracy = tf.reduce_mean(tf.cast(correct_pred, tf.float32), name='accuracy')\n",
    "\n",
    "tests.test_conv_net(conv_net)"
   ]
  },
  {
   "cell_type": "markdown",
   "metadata": {
    "deletable": true,
    "editable": true
   },
   "source": [
    "## Train the Neural Network\n",
    "### Single Optimization\n",
    "Implement the function `train_neural_network` to do a single optimization.  The optimization should use `optimizer` to optimize in `session` with a `feed_dict` of the following:\n",
    "* `x` for image input\n",
    "* `y` for labels\n",
    "* `keep_prob` for keep probability for dropout\n",
    "\n",
    "This function will be called for each batch, so `tf.global_variables_initializer()` has already been called.\n",
    "\n",
    "Note: Nothing needs to be returned. This function is only optimizing the neural network."
   ]
  },
  {
   "cell_type": "code",
   "execution_count": 13,
   "metadata": {
    "collapsed": false,
    "deletable": true,
    "editable": true
   },
   "outputs": [
    {
     "name": "stdout",
     "output_type": "stream",
     "text": [
      "Tests Passed\n"
     ]
    }
   ],
   "source": [
    "def train_neural_network(session, optimizer, keep_probability, feature_batch, label_batch):\n",
    "    \"\"\"\n",
    "    Optimize the session on a batch of images and labels\n",
    "    : session: Current TensorFlow session\n",
    "    : optimizer: TensorFlow optimizer function\n",
    "    : keep_probability: keep probability\n",
    "    : feature_batch: Batch of Numpy image data\n",
    "    : label_batch: Batch of Numpy label data\n",
    "    \"\"\"\n",
    "    # TODO: Implement Function\n",
    "    session.run(optimizer, feed_dict={\n",
    "        x: feature_batch,\n",
    "        y: label_batch,\n",
    "        keep_prob: keep_probability\n",
    "    })\n",
    "\n",
    "\n",
    "\n",
    "\"\"\"\n",
    "DON'T MODIFY ANYTHING IN THIS CELL THAT IS BELOW THIS LINE\n",
    "\"\"\"\n",
    "tests.test_train_nn(train_neural_network)"
   ]
  },
  {
   "cell_type": "markdown",
   "metadata": {
    "deletable": true,
    "editable": true
   },
   "source": [
    "### Show Stats\n",
    "Implement the function `print_stats` to print loss and validation accuracy.  Use the global variables `valid_features` and `valid_labels` to calculate validation accuracy.  Use a keep probability of `1.0` to calculate the loss and validation accuracy."
   ]
  },
  {
   "cell_type": "code",
   "execution_count": 14,
   "metadata": {
    "collapsed": false,
    "deletable": true,
    "editable": true
   },
   "outputs": [],
   "source": [
    "def print_stats(session, feature_batch, label_batch, cost, accuracy):\n",
    "    \"\"\"\n",
    "    Print information about loss and validation accuracy\n",
    "    : session: Current TensorFlow session\n",
    "    : feature_batch: Batch of Numpy image data\n",
    "    : label_batch: Batch of Numpy label data\n",
    "    : cost: TensorFlow cost function\n",
    "    : accuracy: TensorFlow accuracy function\n",
    "    \"\"\"\n",
    "    # TODO: Implement Function\n",
    "    loss = session.run(cost, feed_dict={\n",
    "        x: feature_batch,\n",
    "        y: label_batch,\n",
    "        keep_prob: 1.0\n",
    "    })\n",
    "    \n",
    "    valid_accuracy = session.run(accuracy, feed_dict={\n",
    "        x: valid_features,\n",
    "        y: valid_labels,\n",
    "        keep_prob: 1.0\n",
    "    })\n",
    "\n",
    "    print('Loss: {:>10.4f} Validation Accuracy: {:.6f}'.format(loss, valid_accuracy))"
   ]
  },
  {
   "cell_type": "markdown",
   "metadata": {
    "deletable": true,
    "editable": true
   },
   "source": [
    "### Hyperparameters\n",
    "Tune the following parameters:\n",
    "* Set `epochs` to the number of iterations until the network stops learning or start overfitting\n",
    "* Set `batch_size` to the highest number that your machine has memory for.  Most people set them to common sizes of memory:\n",
    " * 64\n",
    " * 128\n",
    " * 256\n",
    " * ...\n",
    "* Set `keep_probability` to the probability of keeping a node using dropout"
   ]
  },
  {
   "cell_type": "code",
   "execution_count": 15,
   "metadata": {
    "collapsed": true,
    "deletable": true,
    "editable": true
   },
   "outputs": [],
   "source": [
    "# TODO: Tune Parameters\n",
    "epochs = 50\n",
    "batch_size = 1024\n",
    "keep_probability = 0.6"
   ]
  },
  {
   "cell_type": "markdown",
   "metadata": {
    "deletable": true,
    "editable": true
   },
   "source": [
    "### Train on a Single CIFAR-10 Batch\n",
    "Instead of training the neural network on all the CIFAR-10 batches of data, let's use a single batch. This should save time while you iterate on the model to get a better accuracy.  Once the final validation accuracy is 50% or greater, run the model on all the data in the next section."
   ]
  },
  {
   "cell_type": "code",
   "execution_count": 25,
   "metadata": {
    "collapsed": false,
    "deletable": true,
    "editable": true
   },
   "outputs": [
    {
     "name": "stdout",
     "output_type": "stream",
     "text": [
      "Checking the Training on a Single Batch...\n",
      "None\n",
      "Epoch  1, CIFAR-10 Batch 1:  Loss:     2.2830 Validation Accuracy: 0.186400\n",
      "Epoch  2, CIFAR-10 Batch 1:  Loss:     2.2363 Validation Accuracy: 0.213400\n",
      "Epoch  3, CIFAR-10 Batch 1:  Loss:     2.1126 Validation Accuracy: 0.237200\n",
      "Epoch  4, CIFAR-10 Batch 1:  Loss:     2.0146 Validation Accuracy: 0.264800\n",
      "Epoch  5, CIFAR-10 Batch 1:  Loss:     1.9193 Validation Accuracy: 0.318800\n",
      "Epoch  6, CIFAR-10 Batch 1:  Loss:     1.8289 Validation Accuracy: 0.345800\n",
      "Epoch  7, CIFAR-10 Batch 1:  Loss:     1.7509 Validation Accuracy: 0.371000\n",
      "Epoch  8, CIFAR-10 Batch 1:  Loss:     1.6829 Validation Accuracy: 0.394400\n",
      "Epoch  9, CIFAR-10 Batch 1:  Loss:     1.6003 Validation Accuracy: 0.416200\n",
      "Epoch 10, CIFAR-10 Batch 1:  Loss:     1.5468 Validation Accuracy: 0.426600\n",
      "Epoch 11, CIFAR-10 Batch 1:  Loss:     1.5140 Validation Accuracy: 0.420800\n",
      "Epoch 12, CIFAR-10 Batch 1:  Loss:     1.4990 Validation Accuracy: 0.427800\n",
      "Epoch 13, CIFAR-10 Batch 1:  Loss:     1.4367 Validation Accuracy: 0.454400\n",
      "Epoch 14, CIFAR-10 Batch 1:  Loss:     1.3762 Validation Accuracy: 0.469000\n",
      "Epoch 15, CIFAR-10 Batch 1:  Loss:     1.3454 Validation Accuracy: 0.471000\n",
      "Epoch 16, CIFAR-10 Batch 1:  Loss:     1.3365 Validation Accuracy: 0.474400\n",
      "Epoch 17, CIFAR-10 Batch 1:  Loss:     1.3035 Validation Accuracy: 0.476200\n",
      "Epoch 18, CIFAR-10 Batch 1:  Loss:     1.2733 Validation Accuracy: 0.483400\n",
      "Epoch 19, CIFAR-10 Batch 1:  Loss:     1.2347 Validation Accuracy: 0.488800\n",
      "Epoch 20, CIFAR-10 Batch 1:  Loss:     1.2591 Validation Accuracy: 0.488600\n",
      "Epoch 21, CIFAR-10 Batch 1:  Loss:     1.1759 Validation Accuracy: 0.513600\n",
      "Epoch 22, CIFAR-10 Batch 1:  Loss:     1.1748 Validation Accuracy: 0.503000\n",
      "Epoch 23, CIFAR-10 Batch 1:  Loss:     1.1809 Validation Accuracy: 0.491200\n",
      "Epoch 24, CIFAR-10 Batch 1:  Loss:     1.1667 Validation Accuracy: 0.498200\n",
      "Epoch 25, CIFAR-10 Batch 1:  Loss:     1.1111 Validation Accuracy: 0.513800\n",
      "Epoch 26, CIFAR-10 Batch 1:  Loss:     1.0911 Validation Accuracy: 0.515000\n",
      "Epoch 27, CIFAR-10 Batch 1:  Loss:     1.0702 Validation Accuracy: 0.522400\n",
      "Epoch 28, CIFAR-10 Batch 1:  Loss:     1.0675 Validation Accuracy: 0.523800\n",
      "Epoch 29, CIFAR-10 Batch 1:  Loss:     1.0796 Validation Accuracy: 0.520200\n",
      "Epoch 30, CIFAR-10 Batch 1:  Loss:     1.0451 Validation Accuracy: 0.519200\n",
      "Epoch 31, CIFAR-10 Batch 1:  Loss:     0.9946 Validation Accuracy: 0.539400\n",
      "Epoch 32, CIFAR-10 Batch 1:  Loss:     1.0004 Validation Accuracy: 0.541600\n",
      "Epoch 33, CIFAR-10 Batch 1:  Loss:     1.0331 Validation Accuracy: 0.524200\n",
      "Epoch 34, CIFAR-10 Batch 1:  Loss:     0.9662 Validation Accuracy: 0.541800\n",
      "Epoch 35, CIFAR-10 Batch 1:  Loss:     0.9793 Validation Accuracy: 0.536200\n",
      "Epoch 36, CIFAR-10 Batch 1:  Loss:     0.9742 Validation Accuracy: 0.524400\n",
      "Epoch 37, CIFAR-10 Batch 1:  Loss:     0.9698 Validation Accuracy: 0.531600\n",
      "Epoch 38, CIFAR-10 Batch 1:  Loss:     0.9471 Validation Accuracy: 0.541400\n",
      "Epoch 39, CIFAR-10 Batch 1:  Loss:     0.9138 Validation Accuracy: 0.538000\n",
      "Epoch 40, CIFAR-10 Batch 1:  Loss:     0.9185 Validation Accuracy: 0.531400\n",
      "Epoch 41, CIFAR-10 Batch 1:  Loss:     0.8620 Validation Accuracy: 0.552800\n",
      "Epoch 42, CIFAR-10 Batch 1:  Loss:     0.8822 Validation Accuracy: 0.544000\n",
      "Epoch 43, CIFAR-10 Batch 1:  Loss:     0.8550 Validation Accuracy: 0.547600\n",
      "Epoch 44, CIFAR-10 Batch 1:  Loss:     0.8673 Validation Accuracy: 0.540800\n",
      "Epoch 45, CIFAR-10 Batch 1:  Loss:     0.8550 Validation Accuracy: 0.542600\n",
      "Epoch 46, CIFAR-10 Batch 1:  Loss:     0.8815 Validation Accuracy: 0.536800\n",
      "Epoch 47, CIFAR-10 Batch 1:  Loss:     0.9113 Validation Accuracy: 0.526200\n",
      "Epoch 48, CIFAR-10 Batch 1:  Loss:     0.8386 Validation Accuracy: 0.533400\n",
      "Epoch 49, CIFAR-10 Batch 1:  Loss:     0.8601 Validation Accuracy: 0.537800\n",
      "Epoch 50, CIFAR-10 Batch 1:  Loss:     0.7785 Validation Accuracy: 0.552600\n"
     ]
    }
   ],
   "source": [
    "\"\"\"\n",
    "DON'T MODIFY ANYTHING IN THIS CELL\n",
    "\"\"\"\n",
    "print('Checking the Training on a Single Batch...')\n",
    "with tf.Session() as sess:\n",
    "    # Initializing the variables\n",
    "    print(sess.run(tf.global_variables_initializer()))\n",
    "    \n",
    "    # Training cycle\n",
    "    for epoch in range(epochs):\n",
    "        batch_i = 1\n",
    "        for batch_features, batch_labels in helper.load_preprocess_training_batch(batch_i, batch_size):\n",
    "            train_neural_network(sess, optimizer, keep_probability, batch_features, batch_labels)\n",
    "        print('Epoch {:>2}, CIFAR-10 Batch {}:  '.format(epoch + 1, batch_i), end='')\n",
    "        print_stats(sess, batch_features, batch_labels, cost, accuracy)"
   ]
  },
  {
   "cell_type": "markdown",
   "metadata": {
    "deletable": true,
    "editable": true
   },
   "source": [
    "### Fully Train the Model\n",
    "Now that you got a good accuracy with a single CIFAR-10 batch, try it with all five batches."
   ]
  },
  {
   "cell_type": "code",
   "execution_count": 26,
   "metadata": {
    "collapsed": false,
    "deletable": true,
    "editable": true
   },
   "outputs": [
    {
     "name": "stdout",
     "output_type": "stream",
     "text": [
      "Training...\n",
      "Epoch  1, CIFAR-10 Batch 1:  Loss:     2.2771 Validation Accuracy: 0.157400\n",
      "Epoch  1, CIFAR-10 Batch 2:  Loss:     2.2236 Validation Accuracy: 0.190200\n",
      "Epoch  1, CIFAR-10 Batch 3:  Loss:     2.0473 Validation Accuracy: 0.211600\n",
      "Epoch  1, CIFAR-10 Batch 4:  Loss:     1.9045 Validation Accuracy: 0.285000\n",
      "Epoch  1, CIFAR-10 Batch 5:  Loss:     1.8379 Validation Accuracy: 0.340000\n",
      "Epoch  2, CIFAR-10 Batch 1:  Loss:     1.7538 Validation Accuracy: 0.364200\n",
      "Epoch  2, CIFAR-10 Batch 2:  Loss:     1.7033 Validation Accuracy: 0.376600\n",
      "Epoch  2, CIFAR-10 Batch 3:  Loss:     1.5788 Validation Accuracy: 0.396600\n",
      "Epoch  2, CIFAR-10 Batch 4:  Loss:     1.5598 Validation Accuracy: 0.406200\n",
      "Epoch  2, CIFAR-10 Batch 5:  Loss:     1.5578 Validation Accuracy: 0.417000\n",
      "Epoch  3, CIFAR-10 Batch 1:  Loss:     1.5027 Validation Accuracy: 0.439600\n",
      "Epoch  3, CIFAR-10 Batch 2:  Loss:     1.5191 Validation Accuracy: 0.433000\n",
      "Epoch  3, CIFAR-10 Batch 3:  Loss:     1.4096 Validation Accuracy: 0.456400\n",
      "Epoch  3, CIFAR-10 Batch 4:  Loss:     1.4142 Validation Accuracy: 0.467400\n",
      "Epoch  3, CIFAR-10 Batch 5:  Loss:     1.4138 Validation Accuracy: 0.478200\n",
      "Epoch  4, CIFAR-10 Batch 1:  Loss:     1.3894 Validation Accuracy: 0.477400\n",
      "Epoch  4, CIFAR-10 Batch 2:  Loss:     1.3891 Validation Accuracy: 0.487000\n",
      "Epoch  4, CIFAR-10 Batch 3:  Loss:     1.3095 Validation Accuracy: 0.491200\n",
      "Epoch  4, CIFAR-10 Batch 4:  Loss:     1.3242 Validation Accuracy: 0.489800\n",
      "Epoch  4, CIFAR-10 Batch 5:  Loss:     1.3101 Validation Accuracy: 0.501400\n",
      "Epoch  5, CIFAR-10 Batch 1:  Loss:     1.2920 Validation Accuracy: 0.516800\n",
      "Epoch  5, CIFAR-10 Batch 2:  Loss:     1.3073 Validation Accuracy: 0.503800\n",
      "Epoch  5, CIFAR-10 Batch 3:  Loss:     1.2524 Validation Accuracy: 0.510200\n",
      "Epoch  5, CIFAR-10 Batch 4:  Loss:     1.2648 Validation Accuracy: 0.512800\n",
      "Epoch  5, CIFAR-10 Batch 5:  Loss:     1.2510 Validation Accuracy: 0.532800\n",
      "Epoch  6, CIFAR-10 Batch 1:  Loss:     1.2630 Validation Accuracy: 0.519000\n",
      "Epoch  6, CIFAR-10 Batch 2:  Loss:     1.2676 Validation Accuracy: 0.518800\n",
      "Epoch  6, CIFAR-10 Batch 3:  Loss:     1.2380 Validation Accuracy: 0.517800\n",
      "Epoch  6, CIFAR-10 Batch 4:  Loss:     1.2053 Validation Accuracy: 0.529000\n",
      "Epoch  6, CIFAR-10 Batch 5:  Loss:     1.1996 Validation Accuracy: 0.545600\n",
      "Epoch  7, CIFAR-10 Batch 1:  Loss:     1.2283 Validation Accuracy: 0.536400\n",
      "Epoch  7, CIFAR-10 Batch 2:  Loss:     1.1896 Validation Accuracy: 0.543800\n",
      "Epoch  7, CIFAR-10 Batch 3:  Loss:     1.1530 Validation Accuracy: 0.546400\n",
      "Epoch  7, CIFAR-10 Batch 4:  Loss:     1.1550 Validation Accuracy: 0.553600\n",
      "Epoch  7, CIFAR-10 Batch 5:  Loss:     1.1529 Validation Accuracy: 0.559600\n",
      "Epoch  8, CIFAR-10 Batch 1:  Loss:     1.1895 Validation Accuracy: 0.550000\n",
      "Epoch  8, CIFAR-10 Batch 2:  Loss:     1.1470 Validation Accuracy: 0.558000\n",
      "Epoch  8, CIFAR-10 Batch 3:  Loss:     1.1323 Validation Accuracy: 0.559800\n",
      "Epoch  8, CIFAR-10 Batch 4:  Loss:     1.1027 Validation Accuracy: 0.559800\n",
      "Epoch  8, CIFAR-10 Batch 5:  Loss:     1.1033 Validation Accuracy: 0.570400\n",
      "Epoch  9, CIFAR-10 Batch 1:  Loss:     1.1245 Validation Accuracy: 0.564000\n",
      "Epoch  9, CIFAR-10 Batch 2:  Loss:     1.1121 Validation Accuracy: 0.566200\n",
      "Epoch  9, CIFAR-10 Batch 3:  Loss:     1.0963 Validation Accuracy: 0.569600\n",
      "Epoch  9, CIFAR-10 Batch 4:  Loss:     1.0745 Validation Accuracy: 0.568000\n",
      "Epoch  9, CIFAR-10 Batch 5:  Loss:     1.0780 Validation Accuracy: 0.573400\n",
      "Epoch 10, CIFAR-10 Batch 1:  Loss:     1.0864 Validation Accuracy: 0.575000\n",
      "Epoch 10, CIFAR-10 Batch 2:  Loss:     1.0701 Validation Accuracy: 0.578400\n",
      "Epoch 10, CIFAR-10 Batch 3:  Loss:     1.0575 Validation Accuracy: 0.575600\n",
      "Epoch 10, CIFAR-10 Batch 4:  Loss:     1.0437 Validation Accuracy: 0.576600\n",
      "Epoch 10, CIFAR-10 Batch 5:  Loss:     1.0442 Validation Accuracy: 0.584200\n",
      "Epoch 11, CIFAR-10 Batch 1:  Loss:     1.0494 Validation Accuracy: 0.588000\n",
      "Epoch 11, CIFAR-10 Batch 2:  Loss:     1.0866 Validation Accuracy: 0.566000\n",
      "Epoch 11, CIFAR-10 Batch 3:  Loss:     1.0631 Validation Accuracy: 0.573600\n",
      "Epoch 11, CIFAR-10 Batch 4:  Loss:     1.0020 Validation Accuracy: 0.589600\n",
      "Epoch 11, CIFAR-10 Batch 5:  Loss:     1.0118 Validation Accuracy: 0.592000\n",
      "Epoch 12, CIFAR-10 Batch 1:  Loss:     1.0570 Validation Accuracy: 0.581000\n",
      "Epoch 12, CIFAR-10 Batch 2:  Loss:     1.0139 Validation Accuracy: 0.593400\n",
      "Epoch 12, CIFAR-10 Batch 3:  Loss:     1.0165 Validation Accuracy: 0.580400\n",
      "Epoch 12, CIFAR-10 Batch 4:  Loss:     0.9698 Validation Accuracy: 0.599600\n",
      "Epoch 12, CIFAR-10 Batch 5:  Loss:     0.9789 Validation Accuracy: 0.599000\n",
      "Epoch 13, CIFAR-10 Batch 1:  Loss:     1.0152 Validation Accuracy: 0.588600\n",
      "Epoch 13, CIFAR-10 Batch 2:  Loss:     0.9810 Validation Accuracy: 0.603400\n",
      "Epoch 13, CIFAR-10 Batch 3:  Loss:     0.9674 Validation Accuracy: 0.597400\n",
      "Epoch 13, CIFAR-10 Batch 4:  Loss:     0.9328 Validation Accuracy: 0.603600\n",
      "Epoch 13, CIFAR-10 Batch 5:  Loss:     0.9426 Validation Accuracy: 0.601600\n",
      "Epoch 14, CIFAR-10 Batch 1:  Loss:     0.9909 Validation Accuracy: 0.592800\n",
      "Epoch 14, CIFAR-10 Batch 2:  Loss:     0.9475 Validation Accuracy: 0.603000\n",
      "Epoch 14, CIFAR-10 Batch 3:  Loss:     0.9475 Validation Accuracy: 0.599800\n",
      "Epoch 14, CIFAR-10 Batch 4:  Loss:     0.9091 Validation Accuracy: 0.606800\n",
      "Epoch 14, CIFAR-10 Batch 5:  Loss:     0.9168 Validation Accuracy: 0.611200\n",
      "Epoch 15, CIFAR-10 Batch 1:  Loss:     0.9570 Validation Accuracy: 0.600600\n",
      "Epoch 15, CIFAR-10 Batch 2:  Loss:     0.9412 Validation Accuracy: 0.606000\n",
      "Epoch 15, CIFAR-10 Batch 3:  Loss:     0.9178 Validation Accuracy: 0.610200\n",
      "Epoch 15, CIFAR-10 Batch 4:  Loss:     0.8886 Validation Accuracy: 0.615400\n",
      "Epoch 15, CIFAR-10 Batch 5:  Loss:     0.8951 Validation Accuracy: 0.610800\n",
      "Epoch 16, CIFAR-10 Batch 1:  Loss:     0.9266 Validation Accuracy: 0.607600\n",
      "Epoch 16, CIFAR-10 Batch 2:  Loss:     0.9175 Validation Accuracy: 0.610200\n",
      "Epoch 16, CIFAR-10 Batch 3:  Loss:     0.9070 Validation Accuracy: 0.610000\n",
      "Epoch 16, CIFAR-10 Batch 4:  Loss:     0.8641 Validation Accuracy: 0.616400\n",
      "Epoch 16, CIFAR-10 Batch 5:  Loss:     0.8822 Validation Accuracy: 0.613800\n",
      "Epoch 17, CIFAR-10 Batch 1:  Loss:     0.9204 Validation Accuracy: 0.603400\n",
      "Epoch 17, CIFAR-10 Batch 2:  Loss:     0.8973 Validation Accuracy: 0.612000\n",
      "Epoch 17, CIFAR-10 Batch 3:  Loss:     0.8750 Validation Accuracy: 0.619200\n",
      "Epoch 17, CIFAR-10 Batch 4:  Loss:     0.8407 Validation Accuracy: 0.619800\n",
      "Epoch 17, CIFAR-10 Batch 5:  Loss:     0.8484 Validation Accuracy: 0.621800\n",
      "Epoch 18, CIFAR-10 Batch 1:  Loss:     0.8831 Validation Accuracy: 0.618200\n",
      "Epoch 18, CIFAR-10 Batch 2:  Loss:     0.8793 Validation Accuracy: 0.617000\n",
      "Epoch 18, CIFAR-10 Batch 3:  Loss:     0.8740 Validation Accuracy: 0.613600\n",
      "Epoch 18, CIFAR-10 Batch 4:  Loss:     0.8229 Validation Accuracy: 0.619400\n",
      "Epoch 18, CIFAR-10 Batch 5:  Loss:     0.8294 Validation Accuracy: 0.617000\n",
      "Epoch 19, CIFAR-10 Batch 1:  Loss:     0.8752 Validation Accuracy: 0.609000\n",
      "Epoch 19, CIFAR-10 Batch 2:  Loss:     0.8624 Validation Accuracy: 0.618800\n",
      "Epoch 19, CIFAR-10 Batch 3:  Loss:     0.8401 Validation Accuracy: 0.620400\n",
      "Epoch 19, CIFAR-10 Batch 4:  Loss:     0.8140 Validation Accuracy: 0.622400\n",
      "Epoch 19, CIFAR-10 Batch 5:  Loss:     0.8019 Validation Accuracy: 0.625000\n",
      "Epoch 20, CIFAR-10 Batch 1:  Loss:     0.8410 Validation Accuracy: 0.620600\n",
      "Epoch 20, CIFAR-10 Batch 2:  Loss:     0.8287 Validation Accuracy: 0.623600\n",
      "Epoch 20, CIFAR-10 Batch 3:  Loss:     0.8308 Validation Accuracy: 0.621800\n",
      "Epoch 20, CIFAR-10 Batch 4:  Loss:     0.7816 Validation Accuracy: 0.631200\n",
      "Epoch 20, CIFAR-10 Batch 5:  Loss:     0.7761 Validation Accuracy: 0.629600\n",
      "Epoch 21, CIFAR-10 Batch 1:  Loss:     0.8279 Validation Accuracy: 0.626600\n",
      "Epoch 21, CIFAR-10 Batch 2:  Loss:     0.8138 Validation Accuracy: 0.625200\n",
      "Epoch 21, CIFAR-10 Batch 3:  Loss:     0.8179 Validation Accuracy: 0.623600\n",
      "Epoch 21, CIFAR-10 Batch 4:  Loss:     0.7703 Validation Accuracy: 0.630000\n",
      "Epoch 21, CIFAR-10 Batch 5:  Loss:     0.7842 Validation Accuracy: 0.619400\n",
      "Epoch 22, CIFAR-10 Batch 1:  Loss:     0.7981 Validation Accuracy: 0.628800\n",
      "Epoch 22, CIFAR-10 Batch 2:  Loss:     0.8031 Validation Accuracy: 0.628800\n",
      "Epoch 22, CIFAR-10 Batch 3:  Loss:     0.7977 Validation Accuracy: 0.627400\n",
      "Epoch 22, CIFAR-10 Batch 4:  Loss:     0.7518 Validation Accuracy: 0.631400\n",
      "Epoch 22, CIFAR-10 Batch 5:  Loss:     0.7497 Validation Accuracy: 0.624000\n",
      "Epoch 23, CIFAR-10 Batch 1:  Loss:     0.7739 Validation Accuracy: 0.637000\n",
      "Epoch 23, CIFAR-10 Batch 2:  Loss:     0.7704 Validation Accuracy: 0.631600\n",
      "Epoch 23, CIFAR-10 Batch 3:  Loss:     0.7597 Validation Accuracy: 0.631400\n",
      "Epoch 23, CIFAR-10 Batch 4:  Loss:     0.7418 Validation Accuracy: 0.632000\n",
      "Epoch 23, CIFAR-10 Batch 5:  Loss:     0.7418 Validation Accuracy: 0.628200\n",
      "Epoch 24, CIFAR-10 Batch 1:  Loss:     0.7632 Validation Accuracy: 0.636000\n",
      "Epoch 24, CIFAR-10 Batch 2:  Loss:     0.7771 Validation Accuracy: 0.628600\n",
      "Epoch 24, CIFAR-10 Batch 3:  Loss:     0.7550 Validation Accuracy: 0.631600\n",
      "Epoch 24, CIFAR-10 Batch 4:  Loss:     0.7322 Validation Accuracy: 0.635400\n",
      "Epoch 24, CIFAR-10 Batch 5:  Loss:     0.7134 Validation Accuracy: 0.633600\n",
      "Epoch 25, CIFAR-10 Batch 1:  Loss:     0.8029 Validation Accuracy: 0.608800\n",
      "Epoch 25, CIFAR-10 Batch 2:  Loss:     0.8223 Validation Accuracy: 0.617400\n",
      "Epoch 25, CIFAR-10 Batch 3:  Loss:     0.7446 Validation Accuracy: 0.633400\n",
      "Epoch 25, CIFAR-10 Batch 4:  Loss:     0.7430 Validation Accuracy: 0.634000\n",
      "Epoch 25, CIFAR-10 Batch 5:  Loss:     0.6986 Validation Accuracy: 0.635200\n",
      "Epoch 26, CIFAR-10 Batch 1:  Loss:     0.7597 Validation Accuracy: 0.630200\n",
      "Epoch 26, CIFAR-10 Batch 2:  Loss:     0.7678 Validation Accuracy: 0.623600\n",
      "Epoch 26, CIFAR-10 Batch 3:  Loss:     0.8323 Validation Accuracy: 0.606600\n",
      "Epoch 26, CIFAR-10 Batch 4:  Loss:     0.7316 Validation Accuracy: 0.625600\n",
      "Epoch 26, CIFAR-10 Batch 5:  Loss:     0.7088 Validation Accuracy: 0.632000\n",
      "Epoch 27, CIFAR-10 Batch 1:  Loss:     0.7069 Validation Accuracy: 0.645000\n",
      "Epoch 27, CIFAR-10 Batch 2:  Loss:     0.7508 Validation Accuracy: 0.627200\n",
      "Epoch 27, CIFAR-10 Batch 3:  Loss:     0.7841 Validation Accuracy: 0.622400\n",
      "Epoch 27, CIFAR-10 Batch 4:  Loss:     0.7112 Validation Accuracy: 0.632800\n",
      "Epoch 27, CIFAR-10 Batch 5:  Loss:     0.6819 Validation Accuracy: 0.641800\n",
      "Epoch 28, CIFAR-10 Batch 1:  Loss:     0.7074 Validation Accuracy: 0.641400\n",
      "Epoch 28, CIFAR-10 Batch 2:  Loss:     0.7254 Validation Accuracy: 0.644400\n",
      "Epoch 28, CIFAR-10 Batch 3:  Loss:     0.7263 Validation Accuracy: 0.636000\n",
      "Epoch 28, CIFAR-10 Batch 4:  Loss:     0.7038 Validation Accuracy: 0.629200\n",
      "Epoch 28, CIFAR-10 Batch 5:  Loss:     0.6649 Validation Accuracy: 0.642000\n",
      "Epoch 29, CIFAR-10 Batch 1:  Loss:     0.7318 Validation Accuracy: 0.634600\n",
      "Epoch 29, CIFAR-10 Batch 2:  Loss:     0.7137 Validation Accuracy: 0.637200\n",
      "Epoch 29, CIFAR-10 Batch 3:  Loss:     0.6940 Validation Accuracy: 0.641000\n",
      "Epoch 29, CIFAR-10 Batch 4:  Loss:     0.6951 Validation Accuracy: 0.629200\n",
      "Epoch 29, CIFAR-10 Batch 5:  Loss:     0.6535 Validation Accuracy: 0.639800\n",
      "Epoch 30, CIFAR-10 Batch 1:  Loss:     0.7077 Validation Accuracy: 0.639000\n",
      "Epoch 30, CIFAR-10 Batch 2:  Loss:     0.6776 Validation Accuracy: 0.642600\n",
      "Epoch 30, CIFAR-10 Batch 3:  Loss:     0.6757 Validation Accuracy: 0.645800\n",
      "Epoch 30, CIFAR-10 Batch 4:  Loss:     0.6723 Validation Accuracy: 0.633200\n",
      "Epoch 30, CIFAR-10 Batch 5:  Loss:     0.6451 Validation Accuracy: 0.646800\n",
      "Epoch 31, CIFAR-10 Batch 1:  Loss:     0.6965 Validation Accuracy: 0.635200\n",
      "Epoch 31, CIFAR-10 Batch 2:  Loss:     0.6652 Validation Accuracy: 0.646600\n",
      "Epoch 31, CIFAR-10 Batch 3:  Loss:     0.6973 Validation Accuracy: 0.635800\n",
      "Epoch 31, CIFAR-10 Batch 4:  Loss:     0.6708 Validation Accuracy: 0.633000\n",
      "Epoch 31, CIFAR-10 Batch 5:  Loss:     0.6477 Validation Accuracy: 0.642800\n",
      "Epoch 32, CIFAR-10 Batch 1:  Loss:     0.6839 Validation Accuracy: 0.632800\n",
      "Epoch 32, CIFAR-10 Batch 2:  Loss:     0.6520 Validation Accuracy: 0.641600\n",
      "Epoch 32, CIFAR-10 Batch 3:  Loss:     0.6769 Validation Accuracy: 0.633600\n",
      "Epoch 32, CIFAR-10 Batch 4:  Loss:     0.6396 Validation Accuracy: 0.636800\n",
      "Epoch 32, CIFAR-10 Batch 5:  Loss:     0.6121 Validation Accuracy: 0.646200\n",
      "Epoch 33, CIFAR-10 Batch 1:  Loss:     0.6603 Validation Accuracy: 0.639000\n",
      "Epoch 33, CIFAR-10 Batch 2:  Loss:     0.6450 Validation Accuracy: 0.638200\n",
      "Epoch 33, CIFAR-10 Batch 3:  Loss:     0.6721 Validation Accuracy: 0.638200\n",
      "Epoch 33, CIFAR-10 Batch 4:  Loss:     0.6387 Validation Accuracy: 0.642200\n",
      "Epoch 33, CIFAR-10 Batch 5:  Loss:     0.5912 Validation Accuracy: 0.650800\n",
      "Epoch 34, CIFAR-10 Batch 1:  Loss:     0.6508 Validation Accuracy: 0.640000\n",
      "Epoch 34, CIFAR-10 Batch 2:  Loss:     0.6329 Validation Accuracy: 0.645600\n",
      "Epoch 34, CIFAR-10 Batch 3:  Loss:     0.6358 Validation Accuracy: 0.641800\n",
      "Epoch 34, CIFAR-10 Batch 4:  Loss:     0.6041 Validation Accuracy: 0.650600\n",
      "Epoch 34, CIFAR-10 Batch 5:  Loss:     0.5970 Validation Accuracy: 0.647200\n",
      "Epoch 35, CIFAR-10 Batch 1:  Loss:     0.6401 Validation Accuracy: 0.641600\n",
      "Epoch 35, CIFAR-10 Batch 2:  Loss:     0.6413 Validation Accuracy: 0.644600\n",
      "Epoch 35, CIFAR-10 Batch 3:  Loss:     0.6551 Validation Accuracy: 0.634400\n",
      "Epoch 35, CIFAR-10 Batch 4:  Loss:     0.6034 Validation Accuracy: 0.642400\n",
      "Epoch 35, CIFAR-10 Batch 5:  Loss:     0.6194 Validation Accuracy: 0.638800\n",
      "Epoch 36, CIFAR-10 Batch 1:  Loss:     0.6727 Validation Accuracy: 0.629600\n",
      "Epoch 36, CIFAR-10 Batch 2:  Loss:     0.6354 Validation Accuracy: 0.639200\n",
      "Epoch 36, CIFAR-10 Batch 3:  Loss:     0.6807 Validation Accuracy: 0.629600\n",
      "Epoch 36, CIFAR-10 Batch 4:  Loss:     0.6445 Validation Accuracy: 0.630200\n",
      "Epoch 36, CIFAR-10 Batch 5:  Loss:     0.6182 Validation Accuracy: 0.639400\n",
      "Epoch 37, CIFAR-10 Batch 1:  Loss:     0.6159 Validation Accuracy: 0.643000\n",
      "Epoch 37, CIFAR-10 Batch 2:  Loss:     0.6507 Validation Accuracy: 0.632000\n",
      "Epoch 37, CIFAR-10 Batch 3:  Loss:     0.6285 Validation Accuracy: 0.634600\n",
      "Epoch 37, CIFAR-10 Batch 4:  Loss:     0.5915 Validation Accuracy: 0.643200\n",
      "Epoch 37, CIFAR-10 Batch 5:  Loss:     0.6005 Validation Accuracy: 0.636600\n",
      "Epoch 38, CIFAR-10 Batch 1:  Loss:     0.6295 Validation Accuracy: 0.645800\n",
      "Epoch 38, CIFAR-10 Batch 2:  Loss:     0.6487 Validation Accuracy: 0.633000\n",
      "Epoch 38, CIFAR-10 Batch 3:  Loss:     0.5966 Validation Accuracy: 0.641600\n",
      "Epoch 38, CIFAR-10 Batch 4:  Loss:     0.6610 Validation Accuracy: 0.626400\n",
      "Epoch 38, CIFAR-10 Batch 5:  Loss:     0.6005 Validation Accuracy: 0.638400\n",
      "Epoch 39, CIFAR-10 Batch 1:  Loss:     0.5970 Validation Accuracy: 0.657400\n",
      "Epoch 39, CIFAR-10 Batch 2:  Loss:     0.6170 Validation Accuracy: 0.641800\n",
      "Epoch 39, CIFAR-10 Batch 3:  Loss:     0.5827 Validation Accuracy: 0.648400\n",
      "Epoch 39, CIFAR-10 Batch 4:  Loss:     0.6415 Validation Accuracy: 0.632400\n",
      "Epoch 39, CIFAR-10 Batch 5:  Loss:     0.5583 Validation Accuracy: 0.652200\n",
      "Epoch 40, CIFAR-10 Batch 1:  Loss:     0.5770 Validation Accuracy: 0.660400\n",
      "Epoch 40, CIFAR-10 Batch 2:  Loss:     0.6155 Validation Accuracy: 0.642600\n",
      "Epoch 40, CIFAR-10 Batch 3:  Loss:     0.5797 Validation Accuracy: 0.645800\n",
      "Epoch 40, CIFAR-10 Batch 4:  Loss:     0.5858 Validation Accuracy: 0.639600\n",
      "Epoch 40, CIFAR-10 Batch 5:  Loss:     0.5582 Validation Accuracy: 0.643200\n",
      "Epoch 41, CIFAR-10 Batch 1:  Loss:     0.5759 Validation Accuracy: 0.654200\n",
      "Epoch 41, CIFAR-10 Batch 2:  Loss:     0.6225 Validation Accuracy: 0.642000\n",
      "Epoch 41, CIFAR-10 Batch 3:  Loss:     0.5826 Validation Accuracy: 0.642600\n",
      "Epoch 41, CIFAR-10 Batch 4:  Loss:     0.6221 Validation Accuracy: 0.634000\n",
      "Epoch 41, CIFAR-10 Batch 5:  Loss:     0.5750 Validation Accuracy: 0.640600\n",
      "Epoch 42, CIFAR-10 Batch 1:  Loss:     0.5686 Validation Accuracy: 0.650000\n",
      "Epoch 42, CIFAR-10 Batch 2:  Loss:     0.5971 Validation Accuracy: 0.647400\n",
      "Epoch 42, CIFAR-10 Batch 3:  Loss:     0.5974 Validation Accuracy: 0.642600\n",
      "Epoch 42, CIFAR-10 Batch 4:  Loss:     0.6029 Validation Accuracy: 0.633200\n",
      "Epoch 42, CIFAR-10 Batch 5:  Loss:     0.5821 Validation Accuracy: 0.635800\n",
      "Epoch 43, CIFAR-10 Batch 1:  Loss:     0.5739 Validation Accuracy: 0.649800\n",
      "Epoch 43, CIFAR-10 Batch 2:  Loss:     0.5947 Validation Accuracy: 0.650000\n",
      "Epoch 43, CIFAR-10 Batch 3:  Loss:     0.5464 Validation Accuracy: 0.656000\n",
      "Epoch 43, CIFAR-10 Batch 4:  Loss:     0.5710 Validation Accuracy: 0.646000\n",
      "Epoch 43, CIFAR-10 Batch 5:  Loss:     0.5725 Validation Accuracy: 0.635000\n",
      "Epoch 44, CIFAR-10 Batch 1:  Loss:     0.5775 Validation Accuracy: 0.645600\n",
      "Epoch 44, CIFAR-10 Batch 2:  Loss:     0.5798 Validation Accuracy: 0.651000\n",
      "Epoch 44, CIFAR-10 Batch 3:  Loss:     0.5548 Validation Accuracy: 0.648400\n",
      "Epoch 44, CIFAR-10 Batch 4:  Loss:     0.5420 Validation Accuracy: 0.654600\n",
      "Epoch 44, CIFAR-10 Batch 5:  Loss:     0.5241 Validation Accuracy: 0.647800\n",
      "Epoch 45, CIFAR-10 Batch 1:  Loss:     0.5632 Validation Accuracy: 0.641000\n",
      "Epoch 45, CIFAR-10 Batch 2:  Loss:     0.5591 Validation Accuracy: 0.646400\n",
      "Epoch 45, CIFAR-10 Batch 3:  Loss:     0.5163 Validation Accuracy: 0.656600\n",
      "Epoch 45, CIFAR-10 Batch 4:  Loss:     0.5368 Validation Accuracy: 0.658200\n",
      "Epoch 45, CIFAR-10 Batch 5:  Loss:     0.4925 Validation Accuracy: 0.648800\n",
      "Epoch 46, CIFAR-10 Batch 1:  Loss:     0.5430 Validation Accuracy: 0.648000\n",
      "Epoch 46, CIFAR-10 Batch 2:  Loss:     0.5718 Validation Accuracy: 0.644400\n",
      "Epoch 46, CIFAR-10 Batch 3:  Loss:     0.5163 Validation Accuracy: 0.652200\n",
      "Epoch 46, CIFAR-10 Batch 4:  Loss:     0.5077 Validation Accuracy: 0.659400\n",
      "Epoch 46, CIFAR-10 Batch 5:  Loss:     0.5096 Validation Accuracy: 0.643600\n",
      "Epoch 47, CIFAR-10 Batch 1:  Loss:     0.5802 Validation Accuracy: 0.643400\n",
      "Epoch 47, CIFAR-10 Batch 2:  Loss:     0.5422 Validation Accuracy: 0.645600\n",
      "Epoch 47, CIFAR-10 Batch 3:  Loss:     0.5410 Validation Accuracy: 0.644400\n",
      "Epoch 47, CIFAR-10 Batch 4:  Loss:     0.5924 Validation Accuracy: 0.624800\n",
      "Epoch 47, CIFAR-10 Batch 5:  Loss:     0.5067 Validation Accuracy: 0.650200\n",
      "Epoch 48, CIFAR-10 Batch 1:  Loss:     0.5358 Validation Accuracy: 0.646000\n",
      "Epoch 48, CIFAR-10 Batch 2:  Loss:     0.5659 Validation Accuracy: 0.649000\n",
      "Epoch 48, CIFAR-10 Batch 3:  Loss:     0.5498 Validation Accuracy: 0.649600\n",
      "Epoch 48, CIFAR-10 Batch 4:  Loss:     0.5375 Validation Accuracy: 0.642000\n",
      "Epoch 48, CIFAR-10 Batch 5:  Loss:     0.4877 Validation Accuracy: 0.657000\n",
      "Epoch 49, CIFAR-10 Batch 1:  Loss:     0.5053 Validation Accuracy: 0.645600\n",
      "Epoch 49, CIFAR-10 Batch 2:  Loss:     0.5471 Validation Accuracy: 0.648200\n",
      "Epoch 49, CIFAR-10 Batch 3:  Loss:     0.5093 Validation Accuracy: 0.650400\n",
      "Epoch 49, CIFAR-10 Batch 4:  Loss:     0.5021 Validation Accuracy: 0.651200\n",
      "Epoch 49, CIFAR-10 Batch 5:  Loss:     0.4887 Validation Accuracy: 0.655200\n",
      "Epoch 50, CIFAR-10 Batch 1:  Loss:     0.5260 Validation Accuracy: 0.639600\n",
      "Epoch 50, CIFAR-10 Batch 2:  Loss:     0.5602 Validation Accuracy: 0.644600\n",
      "Epoch 50, CIFAR-10 Batch 3:  Loss:     0.5037 Validation Accuracy: 0.650200\n",
      "Epoch 50, CIFAR-10 Batch 4:  Loss:     0.4949 Validation Accuracy: 0.647600\n",
      "Epoch 50, CIFAR-10 Batch 5:  Loss:     0.4788 Validation Accuracy: 0.656400\n"
     ]
    }
   ],
   "source": [
    "\"\"\"\n",
    "DON'T MODIFY ANYTHING IN THIS CELL\n",
    "\"\"\"\n",
    "save_model_path = './image_classification'\n",
    "\n",
    "print('Training...')\n",
    "with tf.Session() as sess:\n",
    "    # Initializing the variables\n",
    "    sess.run(tf.global_variables_initializer())\n",
    "    \n",
    "    # Training cycle\n",
    "    for epoch in range(epochs):\n",
    "        # Loop over all batches\n",
    "        n_batches = 5\n",
    "        for batch_i in range(1, n_batches + 1):\n",
    "            for batch_features, batch_labels in helper.load_preprocess_training_batch(batch_i, batch_size):\n",
    "                train_neural_network(sess, optimizer, keep_probability, batch_features, batch_labels)\n",
    "            print('Epoch {:>2}, CIFAR-10 Batch {}:  '.format(epoch + 1, batch_i), end='')\n",
    "            print_stats(sess, batch_features, batch_labels, cost, accuracy)\n",
    "            \n",
    "    # Save Model\n",
    "    saver = tf.train.Saver()\n",
    "    save_path = saver.save(sess, save_model_path)"
   ]
  },
  {
   "cell_type": "markdown",
   "metadata": {
    "deletable": true,
    "editable": true
   },
   "source": [
    "# Checkpoint\n",
    "The model has been saved to disk.\n",
    "## Test Model\n",
    "Test your model against the test dataset.  This will be your final accuracy. You should have an accuracy greater than 50%. If you don't, keep tweaking the model architecture and parameters."
   ]
  },
  {
   "cell_type": "code",
   "execution_count": 29,
   "metadata": {
    "collapsed": false,
    "deletable": true,
    "editable": true
   },
   "outputs": [
    {
     "name": "stdout",
     "output_type": "stream",
     "text": [
      "Testing Accuracy: 0.6645328462123871\n",
      "\n"
     ]
    },
    {
     "data": {
      "image/png": "[encoded data removed]",
      "text/plain": [
       "<matplotlib.figure.Figure at 0x7f1e8b43ac88>"
      ]
     },
     "metadata": {
      "image/png": {
       "height": 319,
       "width": 355
      }
     },
     "output_type": "display_data"
    }
   ],
   "source": [
    "\"\"\"\n",
    "DON'T MODIFY ANYTHING IN THIS CELL\n",
    "\"\"\"\n",
    "%matplotlib inline\n",
    "%config InlineBackend.figure_format = 'retina'\n",
    "\n",
    "import tensorflow as tf\n",
    "import pickle\n",
    "import helper\n",
    "import random\n",
    "\n",
    "# Set batch size if not already set\n",
    "try:\n",
    "    if batch_size:\n",
    "        pass\n",
    "except NameError:\n",
    "    batch_size = 64\n",
    "\n",
    "save_model_path = './image_classification'\n",
    "n_samples = 4\n",
    "top_n_predictions = 3\n",
    "\n",
    "def test_model():\n",
    "    \"\"\"\n",
    "    Test the saved model against the test dataset\n",
    "    \"\"\"\n",
    "\n",
    "    test_features, test_labels = pickle.load(open('preprocess_test.p', mode='rb'))\n",
    "    loaded_graph = tf.Graph()\n",
    "\n",
    "    with tf.Session(graph=loaded_graph) as sess:\n",
    "        # Load model\n",
    "        loader = tf.train.import_meta_graph(save_model_path + '.meta')\n",
    "        loader.restore(sess, save_model_path)\n",
    "\n",
    "        # Get Tensors from loaded model\n",
    "        loaded_x = loaded_graph.get_tensor_by_name('x:0')\n",
    "        loaded_y = loaded_graph.get_tensor_by_name('y:0')\n",
    "        loaded_keep_prob = loaded_graph.get_tensor_by_name('keep_prob:0')\n",
    "        loaded_logits = loaded_graph.get_tensor_by_name('logits:0')\n",
    "        loaded_acc = loaded_graph.get_tensor_by_name('accuracy:0')\n",
    "        \n",
    "        # Get accuracy in batches for memory limitations\n",
    "        test_batch_acc_total = 0\n",
    "        test_batch_count = 0\n",
    "        \n",
    "        for test_feature_batch, test_label_batch in helper.batch_features_labels(test_features, test_labels, batch_size):\n",
    "            test_batch_acc_total += sess.run(\n",
    "                loaded_acc,\n",
    "                feed_dict={loaded_x: test_feature_batch, loaded_y: test_label_batch, loaded_keep_prob: 1.0})\n",
    "            test_batch_count += 1\n",
    "\n",
    "        print('Testing Accuracy: {}\\n'.format(test_batch_acc_total/test_batch_count))\n",
    "\n",
    "        # Print Random Samples\n",
    "        random_test_features, random_test_labels = tuple(zip(*random.sample(list(zip(test_features, test_labels)), n_samples)))\n",
    "        random_test_predictions = sess.run(\n",
    "            tf.nn.top_k(tf.nn.softmax(loaded_logits), top_n_predictions),\n",
    "            feed_dict={loaded_x: random_test_features, loaded_y: random_test_labels, loaded_keep_prob: 1.0})\n",
    "        helper.display_image_predictions(random_test_features, random_test_labels, random_test_predictions)\n",
    "\n",
    "\n",
    "test_model()"
   ]
  },
  {
   "cell_type": "markdown",
   "metadata": {
    "deletable": true,
    "editable": true
   },
   "source": [
    "## Why 50-80% Accuracy?\n",
    "You might be wondering why you can't get an accuracy any higher. First things first, 50% isn't bad for a simple CNN.  Pure guessing would get you 10% accuracy. However, you might notice people are getting scores [well above 80%](http://rodrigob.github.io/are_we_there_yet/build/classification_datasets_results.html#43494641522d3130).  That's because we haven't taught you all there is to know about neural networks. We still need to cover a few more techniques.\n",
    "## Submitting This Project\n",
    "When submitting this project, make sure to run all the cells before saving the notebook.  Save the notebook file as \"dlnd_image_classification.ipynb\" and save it as a HTML file under \"File\" -> \"Download as\".  Include the \"helper.py\" and \"problem_unittests.py\" files in your submission."
   ]
  },
  {
   "cell_type": "code",
   "execution_count": null,
   "metadata": {
    "collapsed": false,
    "deletable": true,
    "editable": true
   },
   "outputs": [],
   "source": []
  },
  {
   "cell_type": "code",
   "execution_count": null,
   "metadata": {
    "collapsed": true
   },
   "outputs": [],
   "source": []
  }
 ],
 "metadata": {
  "kernelspec": {
   "display_name": "Python 3",
   "language": "python",
   "name": "python3"
  },
  "language_info": {
   "codemirror_mode": {
    "name": "ipython",
    "version": 3
   },
   "file_extension": ".py",
   "mimetype": "text/x-python",
   "name": "python",
   "nbconvert_exporter": "python",
   "pygments_lexer": "ipython3",
   "version": "3.5.2"
  },
  "widgets": {
   "state": {},
   "version": "1.1.2"
  }
 },
 "nbformat": 4,
 "nbformat_minor": 0
}
