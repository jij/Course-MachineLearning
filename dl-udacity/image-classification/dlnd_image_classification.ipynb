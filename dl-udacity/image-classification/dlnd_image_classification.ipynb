{
 "cells": [
  {
   "cell_type": "markdown",
   "metadata": {
    "collapsed": true,
    "deletable": true,
    "editable": true
   },
   "source": [
    "# Image Classification\n",
    "In this project, you'll classify images from the [CIFAR-10 dataset](https://www.cs.toronto.edu/~kriz/cifar.html).  The dataset consists of airplanes, dogs, cats, and other objects. You'll preprocess the images, then train a convolutional neural network on all the samples. The images need to be normalized and the labels need to be one-hot encoded.  You'll get to apply what you learned and build a convolutional, max pooling, dropout, and fully connected layers.  At the end, you'll get to see your neural network's predictions on the sample images.\n",
    "## Get the Data\n",
    "Run the following cell to download the [CIFAR-10 dataset for python](https://www.cs.toronto.edu/~kriz/cifar-10-python.tar.gz)."
   ]
  },
  {
   "cell_type": "code",
   "execution_count": 49,
   "metadata": {
    "collapsed": false,
    "deletable": true,
    "editable": true
   },
   "outputs": [
    {
     "name": "stdout",
     "output_type": "stream",
     "text": [
      "All files found!\n"
     ]
    }
   ],
   "source": [
    "\"\"\"\n",
    "DON'T MODIFY ANYTHING IN THIS CELL THAT IS BELOW THIS LINE\n",
    "\"\"\"\n",
    "from urllib.request import urlretrieve\n",
    "from os.path import isfile, isdir\n",
    "from tqdm import tqdm\n",
    "import problem_unittests as tests\n",
    "import tarfile\n",
    "\n",
    "cifar10_dataset_folder_path = 'cifar-10-batches-py'\n",
    "\n",
    "# Use Floyd's cifar-10 dataset if present\n",
    "floyd_cifar10_location = '/input/cifar-10/python.tar.gz'\n",
    "if isfile(floyd_cifar10_location):\n",
    "    tar_gz_path = floyd_cifar10_location\n",
    "else:\n",
    "    tar_gz_path = 'cifar-10-python.tar.gz'\n",
    "\n",
    "class DLProgress(tqdm):\n",
    "    last_block = 0\n",
    "\n",
    "    def hook(self, block_num=1, block_size=1, total_size=None):\n",
    "        self.total = total_size\n",
    "        self.update((block_num - self.last_block) * block_size)\n",
    "        self.last_block = block_num\n",
    "\n",
    "if not isfile(tar_gz_path):\n",
    "    with DLProgress(unit='B', unit_scale=True, miniters=1, desc='CIFAR-10 Dataset') as pbar:\n",
    "        urlretrieve(\n",
    "            'https://www.cs.toronto.edu/~kriz/cifar-10-python.tar.gz',\n",
    "            tar_gz_path,\n",
    "            pbar.hook)\n",
    "\n",
    "if not isdir(cifar10_dataset_folder_path):\n",
    "    with tarfile.open(tar_gz_path) as tar:\n",
    "        tar.extractall()\n",
    "        tar.close()\n",
    "\n",
    "\n",
    "tests.test_folder_path(cifar10_dataset_folder_path)"
   ]
  },
  {
   "cell_type": "markdown",
   "metadata": {
    "deletable": true,
    "editable": true
   },
   "source": [
    "## Explore the Data\n",
    "The dataset is broken into batches to prevent your machine from running out of memory.  The CIFAR-10 dataset consists of 5 batches, named `data_batch_1`, `data_batch_2`, etc.. Each batch contains the labels and images that are one of the following:\n",
    "* airplane\n",
    "* automobile\n",
    "* bird\n",
    "* cat\n",
    "* deer\n",
    "* dog\n",
    "* frog\n",
    "* horse\n",
    "* ship\n",
    "* truck\n",
    "\n",
    "Understanding a dataset is part of making predictions on the data.  Play around with the code cell below by changing the `batch_id` and `sample_id`. The `batch_id` is the id for a batch (1-5). The `sample_id` is the id for a image and label pair in the batch.\n",
    "\n",
    "Ask yourself \"What are all possible labels?\", \"What is the range of values for the image data?\", \"Are the labels in order or random?\".  Answers to questions like these will help you preprocess the data and end up with better predictions."
   ]
  },
  {
   "cell_type": "code",
   "execution_count": 50,
   "metadata": {
    "collapsed": false,
    "deletable": true,
    "editable": true
   },
   "outputs": [
    {
     "name": "stdout",
     "output_type": "stream",
     "text": [
      "\n",
      "Stats of batch 2:\n",
      "Samples: 10000\n",
      "Label Counts: {0: 984, 1: 1007, 2: 1010, 3: 995, 4: 1010, 5: 988, 6: 1008, 7: 1026, 8: 987, 9: 985}\n",
      "First 20 Labels: [1, 6, 6, 8, 8, 3, 4, 6, 0, 6, 0, 3, 6, 6, 5, 4, 8, 3, 2, 6]\n",
      "\n",
      "Example of Image 500:\n",
      "Image - Min Value: 13 Max Value: 218\n",
      "Image - Shape: (32, 32, 3)\n",
      "Label - Label Id: 4 Name: deer\n"
     ]
    },
    {
     "data": {
      "image/png": "[encoded data removed]",
      "text/plain": [
       "<matplotlib.figure.Figure at 0x7f98c1c80668>"
      ]
     },
     "metadata": {
      "image/png": {
       "height": 250,
       "width": 253
      }
     },
     "output_type": "display_data"
    }
   ],
   "source": [
    "%matplotlib inline\n",
    "%config InlineBackend.figure_format = 'retina'\n",
    "\n",
    "import helper\n",
    "import numpy as np\n",
    "\n",
    "# Explore the dataset\n",
    "batch_id = 2\n",
    "sample_id = 500\n",
    "helper.display_stats(cifar10_dataset_folder_path, batch_id, sample_id)"
   ]
  },
  {
   "cell_type": "markdown",
   "metadata": {
    "deletable": true,
    "editable": true
   },
   "source": [
    "## Implement Preprocess Functions\n",
    "### Normalize\n",
    "In the cell below, implement the `normalize` function to take in image data, `x`, and return it as a normalized Numpy array. The values should be in the range of 0 to 1, inclusive.  The return object should be the same shape as `x`."
   ]
  },
  {
   "cell_type": "code",
   "execution_count": 51,
   "metadata": {
    "collapsed": false,
    "deletable": true,
    "editable": true
   },
   "outputs": [
    {
     "name": "stdout",
     "output_type": "stream",
     "text": [
      "Tests Passed\n"
     ]
    }
   ],
   "source": [
    "def normalize(x):\n",
    "    \"\"\"\n",
    "    Normalize a list of sample image data in the range of 0 to 1\n",
    "    : x: List of image data.  The image shape is (32, 32, 3)\n",
    "    : return: Numpy array of normalize data\n",
    "    \"\"\"\n",
    "    # TODO: Implement Function\n",
    "    min = np.min(x) # 0\n",
    "    max = np.max(x) # 255\n",
    "    return (x-min)/(max-min) # can be simplified as x/255\n",
    "\n",
    "\"\"\"\n",
    "DON'T MODIFY ANYTHING IN THIS CELL THAT IS BELOW THIS LINE\n",
    "\"\"\"\n",
    "tests.test_normalize(normalize)"
   ]
  },
  {
   "cell_type": "markdown",
   "metadata": {
    "deletable": true,
    "editable": true
   },
   "source": [
    "### One-hot encode\n",
    "Just like the previous code cell, you'll be implementing a function for preprocessing.  This time, you'll implement the `one_hot_encode` function. The input, `x`, are a list of labels.  Implement the function to return the list of labels as One-Hot encoded Numpy array.  The possible values for labels are 0 to 9. The one-hot encoding function should return the same encoding for each value between each call to `one_hot_encode`.  Make sure to save the map of encodings outside the function.\n",
    "\n",
    "Hint: Don't reinvent the wheel."
   ]
  },
  {
   "cell_type": "code",
   "execution_count": 52,
   "metadata": {
    "collapsed": false,
    "deletable": true,
    "editable": true
   },
   "outputs": [
    {
     "name": "stdout",
     "output_type": "stream",
     "text": [
      "Tests Passed\n"
     ]
    }
   ],
   "source": [
    "def one_hot_encode(x):\n",
    "    \"\"\"\n",
    "    One hot encode a list of sample labels. Return a one-hot encoded vector for each label.\n",
    "    : x: List of sample Labels\n",
    "    : return: Numpy array of one-hot encoded labels\n",
    "    \"\"\"\n",
    "    # TODO: Implement Function\n",
    "    max_vals = 10\n",
    "    return np.eye(max_vals)[x]\n",
    "\n",
    "\n",
    "\"\"\"\n",
    "DON'T MODIFY ANYTHING IN THIS CELL THAT IS BELOW THIS LINE\n",
    "\"\"\"\n",
    "tests.test_one_hot_encode(one_hot_encode)"
   ]
  },
  {
   "cell_type": "markdown",
   "metadata": {
    "deletable": true,
    "editable": true
   },
   "source": [
    "### Randomize Data\n",
    "As you saw from exploring the data above, the order of the samples are randomized.  It doesn't hurt to randomize it again, but you don't need to for this dataset."
   ]
  },
  {
   "cell_type": "markdown",
   "metadata": {
    "deletable": true,
    "editable": true
   },
   "source": [
    "## Preprocess all the data and save it\n",
    "Running the code cell below will preprocess all the CIFAR-10 data and save it to file. The code below also uses 10% of the training data for validation."
   ]
  },
  {
   "cell_type": "code",
   "execution_count": 53,
   "metadata": {
    "collapsed": false,
    "deletable": true,
    "editable": true
   },
   "outputs": [],
   "source": [
    "\"\"\"\n",
    "DON'T MODIFY ANYTHING IN THIS CELL\n",
    "\"\"\"\n",
    "# Preprocess Training, Validation, and Testing Data\n",
    "helper.preprocess_and_save_data(cifar10_dataset_folder_path, normalize, one_hot_encode)"
   ]
  },
  {
   "cell_type": "markdown",
   "metadata": {
    "deletable": true,
    "editable": true
   },
   "source": [
    "# Check Point\n",
    "This is your first checkpoint.  If you ever decide to come back to this notebook or have to restart the notebook, you can start from here.  The preprocessed data has been saved to disk."
   ]
  },
  {
   "cell_type": "code",
   "execution_count": 54,
   "metadata": {
    "collapsed": true,
    "deletable": true,
    "editable": true
   },
   "outputs": [],
   "source": [
    "\"\"\"\n",
    "DON'T MODIFY ANYTHING IN THIS CELL\n",
    "\"\"\"\n",
    "import pickle\n",
    "import problem_unittests as tests\n",
    "import helper\n",
    "\n",
    "# Load the Preprocessed Validation data\n",
    "valid_features, valid_labels = pickle.load(open('preprocess_validation.p', mode='rb'))"
   ]
  },
  {
   "cell_type": "markdown",
   "metadata": {
    "deletable": true,
    "editable": true
   },
   "source": [
    "## Build the network\n",
    "For the neural network, you'll build each layer into a function.  Most of the code you've seen has been outside of functions. To test your code more thoroughly, we require that you put each layer in a function.  This allows us to give you better feedback and test for simple mistakes using our unittests before you submit your project.\n",
    "\n",
    ">**Note:** If you're finding it hard to dedicate enough time for this course each week, we've provided a small shortcut to this part of the project. In the next couple of problems, you'll have the option to use classes from the [TensorFlow Layers](https://www.tensorflow.org/api_docs/python/tf/layers) or [TensorFlow Layers (contrib)](https://www.tensorflow.org/api_guides/python/contrib.layers) packages to build each layer, except the layers you build in the \"Convolutional and Max Pooling Layer\" section.  TF Layers is similar to Keras's and TFLearn's abstraction to layers, so it's easy to pickup.\n",
    "\n",
    ">However, if you would like to get the most out of this course, try to solve all the problems _without_ using anything from the TF Layers packages. You **can** still use classes from other packages that happen to have the same name as ones you find in TF Layers! For example, instead of using the TF Layers version of the `conv2d` class, [tf.layers.conv2d](https://www.tensorflow.org/api_docs/python/tf/layers/conv2d), you would want to use the TF Neural Network version of `conv2d`, [tf.nn.conv2d](https://www.tensorflow.org/api_docs/python/tf/nn/conv2d). \n",
    "\n",
    "Let's begin!\n",
    "\n",
    "### Input\n",
    "The neural network needs to read the image data, one-hot encoded labels, and dropout keep probability. Implement the following functions\n",
    "* Implement `neural_net_image_input`\n",
    " * Return a [TF Placeholder](https://www.tensorflow.org/api_docs/python/tf/placeholder)\n",
    " * Set the shape using `image_shape` with batch size set to `None`.\n",
    " * Name the TensorFlow placeholder \"x\" using the TensorFlow `name` parameter in the [TF Placeholder](https://www.tensorflow.org/api_docs/python/tf/placeholder).\n",
    "* Implement `neural_net_label_input`\n",
    " * Return a [TF Placeholder](https://www.tensorflow.org/api_docs/python/tf/placeholder)\n",
    " * Set the shape using `n_classes` with batch size set to `None`.\n",
    " * Name the TensorFlow placeholder \"y\" using the TensorFlow `name` parameter in the [TF Placeholder](https://www.tensorflow.org/api_docs/python/tf/placeholder).\n",
    "* Implement `neural_net_keep_prob_input`\n",
    " * Return a [TF Placeholder](https://www.tensorflow.org/api_docs/python/tf/placeholder) for dropout keep probability.\n",
    " * Name the TensorFlow placeholder \"keep_prob\" using the TensorFlow `name` parameter in the [TF Placeholder](https://www.tensorflow.org/api_docs/python/tf/placeholder).\n",
    "\n",
    "These names will be used at the end of the project to load your saved model.\n",
    "\n",
    "Note: `None` for shapes in TensorFlow allow for a dynamic size."
   ]
  },
  {
   "cell_type": "code",
   "execution_count": 79,
   "metadata": {
    "collapsed": false,
    "deletable": true,
    "editable": true
   },
   "outputs": [
    {
     "name": "stdout",
     "output_type": "stream",
     "text": [
      "Image Input Tests Passed.\n",
      "Label Input Tests Passed.\n",
      "Keep Prob Tests Passed.\n"
     ]
    }
   ],
   "source": [
    "import tensorflow as tf\n",
    "\n",
    "def neural_net_image_input(image_shape):\n",
    "    \"\"\"\n",
    "    Return a Tensor for a batch of image input\n",
    "    : image_shape: Shape of the images\n",
    "    : return: Tensor for image input.\n",
    "    \"\"\"\n",
    "    # TODO: Implement Function\n",
    "    # return tf.placeholder(dtype=tf.float32, shape=[None, image_shape[0], image_shape[1], image_shape[2]], name=\"x\")\n",
    "    return tf.placeholder(tf.float32, [None, *image_shape], name='x')  # \n",
    "\n",
    "\n",
    "def neural_net_label_input(n_classes):\n",
    "    \"\"\"\n",
    "    Return a Tensor for a batch of label input\n",
    "    : n_classes: Number of classes\n",
    "    : return: Tensor for label input.\n",
    "    \"\"\"\n",
    "    # TODO: Implement Function\n",
    "    return tf.placeholder(tf.float32, [None, n_classes], name='y')\n",
    "\n",
    "def neural_net_keep_prob_input():\n",
    "    \"\"\"\n",
    "    Return a Tensor for keep probability\n",
    "    : return: Tensor for keep probability.\n",
    "    \"\"\"\n",
    "    # TODO: Implement Function\n",
    "    return tf.placeholder(tf.float32, name='keep_prob')\n",
    "\n",
    "\n",
    "\"\"\"\n",
    "DON'T MODIFY ANYTHING IN THIS CELL THAT IS BELOW THIS LINE\n",
    "\"\"\"\n",
    "tf.reset_default_graph()\n",
    "tests.test_nn_image_inputs(neural_net_image_input)\n",
    "tests.test_nn_label_inputs(neural_net_label_input)\n",
    "tests.test_nn_keep_prob_inputs(neural_net_keep_prob_input)"
   ]
  },
  {
   "cell_type": "markdown",
   "metadata": {
    "deletable": true,
    "editable": true
   },
   "source": [
    "### Convolution and Max Pooling Layer\n",
    "Convolution layers have a lot of success with images. For this code cell, you should implement the function `conv2d_maxpool` to apply convolution then max pooling:\n",
    "* Create the weight and bias using `conv_ksize`, `conv_num_outputs` and the shape of `x_tensor`.\n",
    "* Apply a convolution to `x_tensor` using weight and `conv_strides`.\n",
    " * We recommend you use same padding, but you're welcome to use any padding.\n",
    "* Add bias\n",
    "* Add a nonlinear activation to the convolution.\n",
    "* Apply Max Pooling using `pool_ksize` and `pool_strides`.\n",
    " * We recommend you use same padding, but you're welcome to use any padding.\n",
    "\n",
    "**Note:** You **can't** use [TensorFlow Layers](https://www.tensorflow.org/api_docs/python/tf/layers) or [TensorFlow Layers (contrib)](https://www.tensorflow.org/api_guides/python/contrib.layers) for **this** layer, but you can still use TensorFlow's [Neural Network](https://www.tensorflow.org/api_docs/python/tf/nn) package. You may still use the shortcut option for all the **other** layers."
   ]
  },
  {
   "cell_type": "code",
   "execution_count": 96,
   "metadata": {
    "collapsed": false,
    "deletable": true,
    "editable": true
   },
   "outputs": [
    {
     "name": "stdout",
     "output_type": "stream",
     "text": [
      "Tests Passed\n"
     ]
    }
   ],
   "source": [
    "def conv2d_maxpool(x_tensor, conv_num_outputs, conv_ksize, conv_strides, pool_ksize, pool_strides):\n",
    "    \"\"\"\n",
    "    Apply convolution then max pooling to x_tensor\n",
    "    :param x_tensor: TensorFlow Tensor\n",
    "    :param conv_num_outputs: Number of outputs for the convolutional layer\n",
    "    :param conv_ksize: kernal size 2-D Tuple for the convolutional layer\n",
    "    :param conv_strides: Stride 2-D Tuple for convolution\n",
    "    :param pool_ksize: kernal size 2-D Tuple for pool\n",
    "    :param pool_strides: Stride 2-D Tuple for pool\n",
    "    : return: A tensor that represents convolution and max pooling of x_tensor\n",
    "    \"\"\"\n",
    "    # TODO: Implement Function\n",
    "    input_shape = int(x_tensor.shape[3])\n",
    "    output_shape = conv_num_outputs\n",
    "    weight_shape = [*conv_ksize, input_shape, output_shape]\n",
    "    # Weights\n",
    "    w = tf.Variable(tf.random_normal(weight_shape, stddev=0.1))\n",
    "    # Bias\n",
    "    b = tf.Variable(tf.zeros(output_shape))\n",
    "    \n",
    "    # Initialize the 2d conv layer\n",
    "    output = tf.nn.conv2d(x_tensor, w, [1, *conv_strides, 1], padding=\"SAME\")\n",
    "        #add bias\n",
    "    output = tf.nn.bias_add(output, b)\n",
    "        #add nonlinear activation\n",
    "    output = tf.nn.relu(output)\n",
    "    \n",
    "    # Max pool\n",
    "    mp_strides = [1, *pool_strides, 1]\n",
    "    mp_ksize = [1, *conv_ksize, 1]\n",
    "    return tf.nn.max_pool(output, mp_ksize, mp_strides, padding=\"SAME\")\n",
    "\n",
    "\n",
    "\n",
    "\"\"\"\n",
    "DON'T MODIFY ANYTHING IN THIS CELL THAT IS BELOW THIS LINE\n",
    "\"\"\"\n",
    "tests.test_con_pool(conv2d_maxpool)"
   ]
  },
  {
   "cell_type": "markdown",
   "metadata": {
    "deletable": true,
    "editable": true
   },
   "source": [
    "### Flatten Layer\n",
    "Implement the `flatten` function to change the dimension of `x_tensor` from a 4-D tensor to a 2-D tensor.  The output should be the shape (*Batch Size*, *Flattened Image Size*). Shortcut option: you can use classes from the [TensorFlow Layers](https://www.tensorflow.org/api_docs/python/tf/layers) or [TensorFlow Layers (contrib)](https://www.tensorflow.org/api_guides/python/contrib.layers) packages for this layer. For more of a challenge, only use other TensorFlow packages."
   ]
  },
  {
   "cell_type": "code",
   "execution_count": 97,
   "metadata": {
    "collapsed": false,
    "deletable": true,
    "editable": true
   },
   "outputs": [
    {
     "name": "stdout",
     "output_type": "stream",
     "text": [
      "Tests Passed\n"
     ]
    }
   ],
   "source": [
    "def flatten(x_tensor):\n",
    "    \"\"\"\n",
    "    Flatten x_tensor to (Batch Size, Flattened Image Size)\n",
    "    : x_tensor: A tensor of size (Batch Size, ...), where ... are the image dimensions.\n",
    "    : return: A tensor of size (Batch Size, Flattened Image Size).\n",
    "    \"\"\"\n",
    "    # TODO: Implement Function\n",
    "    \n",
    "    # \n",
    "    \n",
    "    #batch_size, *img_size = x_tensor.get_shape().as_list() # [None, 10, 30, 6]\n",
    "    #dimension = img_size[0] * img_size[1] * img_size[2] # 18000\n",
    "    #return tf.reshape(x_tensor, [-1, (dimension)])\n",
    "\n",
    "    return tf.contrib.layers.flatten(x_tensor)\n",
    "\n",
    "\n",
    "\"\"\"\n",
    "DON'T MODIFY ANYTHING IN THIS CELL THAT IS BELOW THIS LINE\n",
    "\"\"\"\n",
    "tests.test_flatten(flatten)"
   ]
  },
  {
   "cell_type": "markdown",
   "metadata": {
    "deletable": true,
    "editable": true
   },
   "source": [
    "### Fully-Connected Layer\n",
    "Implement the `fully_conn` function to apply a fully connected layer to `x_tensor` with the shape (*Batch Size*, *num_outputs*). Shortcut option: you can use classes from the [TensorFlow Layers](https://www.tensorflow.org/api_docs/python/tf/layers) or [TensorFlow Layers (contrib)](https://www.tensorflow.org/api_guides/python/contrib.layers) packages for this layer. For more of a challenge, only use other TensorFlow packages."
   ]
  },
  {
   "cell_type": "code",
   "execution_count": 98,
   "metadata": {
    "collapsed": false,
    "deletable": true,
    "editable": true
   },
   "outputs": [
    {
     "name": "stdout",
     "output_type": "stream",
     "text": [
      "Tests Passed\n"
     ]
    }
   ],
   "source": [
    "def fully_conn(x_tensor, num_outputs):\n",
    "    \"\"\"\n",
    "    Apply a fully connected layer to x_tensor using weight and bias\n",
    "    : x_tensor: A 2-D tensor where the first dimension is batch size.\n",
    "    : num_outputs: The number of output that the new tensor should be.\n",
    "    : return: A 2-D tensor where the second dimension is num_outputs.\n",
    "    \"\"\"\n",
    "    # TODO: Implement Function\n",
    "    w_shape = (int(x_tensor.shape[1]), num_outputs)\n",
    "    w = tf.Variable(tf.random_normal(w_shape, stddev=0.1)) #weights \n",
    "    b = tf.Variable(tf.zeros(num_outputs)) #bias\n",
    "    output = tf.add(tf.matmul(x_tensor, w), b)\n",
    "    return tf.nn.relu(output)\n",
    "\n",
    "\n",
    "\"\"\"\n",
    "DON'T MODIFY ANYTHING IN THIS CELL THAT IS BELOW THIS LINE\n",
    "\"\"\"\n",
    "tests.test_fully_conn(fully_conn)"
   ]
  },
  {
   "cell_type": "markdown",
   "metadata": {
    "deletable": true,
    "editable": true
   },
   "source": [
    "### Output Layer\n",
    "Implement the `output` function to apply a fully connected layer to `x_tensor` with the shape (*Batch Size*, *num_outputs*). Shortcut option: you can use classes from the [TensorFlow Layers](https://www.tensorflow.org/api_docs/python/tf/layers) or [TensorFlow Layers (contrib)](https://www.tensorflow.org/api_guides/python/contrib.layers) packages for this layer. For more of a challenge, only use other TensorFlow packages.\n",
    "\n",
    "**Note:** Activation, softmax, or cross entropy should **not** be applied to this."
   ]
  },
  {
   "cell_type": "code",
   "execution_count": 99,
   "metadata": {
    "collapsed": false,
    "deletable": true,
    "editable": true
   },
   "outputs": [
    {
     "name": "stdout",
     "output_type": "stream",
     "text": [
      "Tests Passed\n"
     ]
    }
   ],
   "source": [
    "def output(x_tensor, num_outputs):\n",
    "    \"\"\"\n",
    "    Apply a output layer to x_tensor using weight and bias\n",
    "    : x_tensor: A 2-D tensor where the first dimension is batch size.\n",
    "    : num_outputs: The number of output that the new tensor should be.\n",
    "    : return: A 2-D tensor where the second dimension is num_outputs.\n",
    "    \"\"\"\n",
    "    # TODO: Implement Function\n",
    "    w_shape = (int(x_tensor.shape[1]), num_outputs)\n",
    "    w = tf.Variable(tf.random_normal(w_shape, stddev=0.1)) #weights \n",
    "    b = tf.Variable(tf.zeros(num_outputs)) #bias\n",
    "    \n",
    "    fc = tf.add(tf.matmul(x_tensor, w), b)\n",
    "    return tf.nn.relu(fc)\n",
    "\n",
    "\n",
    "\"\"\"\n",
    "DON'T MODIFY ANYTHING IN THIS CELL THAT IS BELOW THIS LINE\n",
    "\"\"\"\n",
    "tests.test_output(output)"
   ]
  },
  {
   "cell_type": "markdown",
   "metadata": {
    "deletable": true,
    "editable": true
   },
   "source": [
    "### Create Convolutional Model\n",
    "Implement the function `conv_net` to create a convolutional neural network model. The function takes in a batch of images, `x`, and outputs logits.  Use the layers you created above to create this model:\n",
    "\n",
    "* Apply 1, 2, or 3 Convolution and Max Pool layers\n",
    "* Apply a Flatten Layer\n",
    "* Apply 1, 2, or 3 Fully Connected Layers\n",
    "* Apply an Output Layer\n",
    "* Return the output\n",
    "* Apply [TensorFlow's Dropout](https://www.tensorflow.org/api_docs/python/tf/nn/dropout) to one or more layers in the model using `keep_prob`. "
   ]
  },
  {
   "cell_type": "code",
   "execution_count": 100,
   "metadata": {
    "collapsed": false,
    "deletable": true,
    "editable": true
   },
   "outputs": [
    {
     "name": "stdout",
     "output_type": "stream",
     "text": [
      "Neural Network Built!\n"
     ]
    }
   ],
   "source": [
    "def conv_net(x, keep_prob):\n",
    "    \"\"\"\n",
    "    Create a convolutional neural network model\n",
    "    : x: Placeholder tensor that holds image data.\n",
    "    : keep_prob: Placeholder tensor that hold dropout keep probability.\n",
    "    : return: Tensor that represents logits\n",
    "    \"\"\"\n",
    "    # TODO: Apply 1, 2, or 3 Convolution and Max Pool layers\n",
    "    #    Play around with different number of outputs, kernel size and stride\n",
    "    # Function Definition from Above:\n",
    "    #    conv2d_maxpool(x_tensor, conv_num_outputs, conv_ksize, conv_strides, pool_ksize, pool_strides)\n",
    "\n",
    "    \n",
    "    layer_1 = conv2d_maxpool(x, 32, (2, 2), (2, 2), (2, 2), (2, 2))\n",
    "    layer_2 = conv2d_maxpool(layer_1, 64, (4, 4), (1, 1), (2, 2), (2, 2))\n",
    "    layer_3 = conv2d_maxpool(layer_2, 64, (2, 2), (1, 1), (2, 2), (2, 2))\n",
    "\n",
    "    # TODO: Apply a Flatten Layer\n",
    "    # Function Definition from Above:\n",
    "    #   flatten(x_tensor)\n",
    "    flat_layer = flatten(layer_3) \n",
    "\n",
    "    # TODO: Apply 1, 2, or 3 Fully Connected Layers\n",
    "    #    Play around with different number of outputs\n",
    "    # Function Definition from Above:\n",
    "    #   fully_conn(x_tensor, num_outputs)\n",
    "    \n",
    "    \n",
    "    fc_layer_1 = fully_conn(flat_layer, 512)\n",
    "    fc_layer_1 = tf.nn.dropout(fc_layer_1, keep_prob)\n",
    "    \n",
    "    fc_layer_2 = fully_conn(fc_layer_1, 128)\n",
    "    fc_layer_2 = tf.nn.dropout(fc_layer_2, keep_prob)\n",
    "    \n",
    "    # TODO: Apply an Output Layer\n",
    "    #    Set this to the number of classes\n",
    "    # Function Definition from Above:\n",
    "    #   output(x_tensor, num_outputs)\n",
    "    output_layer = output(fc_layer_2, 10)\n",
    "    \n",
    "    # TODO: return output\n",
    "    return output_layer\n",
    "\n",
    "\n",
    "\"\"\"\n",
    "DON'T MODIFY ANYTHING IN THIS CELL THAT IS BELOW THIS LINE\n",
    "\"\"\"\n",
    "\n",
    "##############################\n",
    "## Build the Neural Network ##\n",
    "##############################\n",
    "\n",
    "# Remove previous weights, bias, inputs, etc..\n",
    "tf.reset_default_graph()\n",
    "\n",
    "# Inputs\n",
    "x = neural_net_image_input((32, 32, 3))\n",
    "y = neural_net_label_input(10)\n",
    "keep_prob = neural_net_keep_prob_input()\n",
    "\n",
    "# Model\n",
    "logits = conv_net(x, keep_prob)\n",
    "\n",
    "# Name logits Tensor, so that is can be loaded from disk after training\n",
    "logits = tf.identity(logits, name='logits')\n",
    "\n",
    "# Loss and Optimizer\n",
    "cost = tf.reduce_mean(tf.nn.softmax_cross_entropy_with_logits(logits=logits, labels=y))\n",
    "optimizer = tf.train.AdamOptimizer().minimize(cost)\n",
    "\n",
    "# Accuracy\n",
    "correct_pred = tf.equal(tf.argmax(logits, 1), tf.argmax(y, 1))\n",
    "accuracy = tf.reduce_mean(tf.cast(correct_pred, tf.float32), name='accuracy')\n",
    "\n",
    "tests.test_conv_net(conv_net)"
   ]
  },
  {
   "cell_type": "markdown",
   "metadata": {
    "deletable": true,
    "editable": true
   },
   "source": [
    "## Train the Neural Network\n",
    "### Single Optimization\n",
    "Implement the function `train_neural_network` to do a single optimization.  The optimization should use `optimizer` to optimize in `session` with a `feed_dict` of the following:\n",
    "* `x` for image input\n",
    "* `y` for labels\n",
    "* `keep_prob` for keep probability for dropout\n",
    "\n",
    "This function will be called for each batch, so `tf.global_variables_initializer()` has already been called.\n",
    "\n",
    "Note: Nothing needs to be returned. This function is only optimizing the neural network."
   ]
  },
  {
   "cell_type": "code",
   "execution_count": 101,
   "metadata": {
    "collapsed": false,
    "deletable": true,
    "editable": true
   },
   "outputs": [
    {
     "name": "stdout",
     "output_type": "stream",
     "text": [
      "Tests Passed\n"
     ]
    }
   ],
   "source": [
    "def train_neural_network(session, optimizer, keep_probability, feature_batch, label_batch):\n",
    "    \"\"\"\n",
    "    Optimize the session on a batch of images and labels\n",
    "    : session: Current TensorFlow session\n",
    "    : optimizer: TensorFlow optimizer function\n",
    "    : keep_probability: keep probability\n",
    "    : feature_batch: Batch of Numpy image data\n",
    "    : label_batch: Batch of Numpy label data\n",
    "    \"\"\"\n",
    "    # TODO: Implement Function\n",
    "    session.run(optimizer, feed_dict={\n",
    "        x: feature_batch,\n",
    "        y: label_batch,\n",
    "        keep_prob: keep_probability\n",
    "    })\n",
    "\n",
    "\n",
    "\n",
    "\"\"\"\n",
    "DON'T MODIFY ANYTHING IN THIS CELL THAT IS BELOW THIS LINE\n",
    "\"\"\"\n",
    "tests.test_train_nn(train_neural_network)"
   ]
  },
  {
   "cell_type": "markdown",
   "metadata": {
    "deletable": true,
    "editable": true
   },
   "source": [
    "### Show Stats\n",
    "Implement the function `print_stats` to print loss and validation accuracy.  Use the global variables `valid_features` and `valid_labels` to calculate validation accuracy.  Use a keep probability of `1.0` to calculate the loss and validation accuracy."
   ]
  },
  {
   "cell_type": "code",
   "execution_count": 102,
   "metadata": {
    "collapsed": false,
    "deletable": true,
    "editable": true
   },
   "outputs": [],
   "source": [
    "def print_stats(session, feature_batch, label_batch, cost, accuracy):\n",
    "    \"\"\"\n",
    "    Print information about loss and validation accuracy\n",
    "    : session: Current TensorFlow session\n",
    "    : feature_batch: Batch of Numpy image data\n",
    "    : label_batch: Batch of Numpy label data\n",
    "    : cost: TensorFlow cost function\n",
    "    : accuracy: TensorFlow accuracy function\n",
    "    \"\"\"\n",
    "    # TODO: Implement Function\n",
    "    loss = session.run(cost, feed_dict={\n",
    "        x: feature_batch,\n",
    "        y: label_batch,\n",
    "        keep_prob: 1.0\n",
    "    })\n",
    "    \n",
    "    valid_accuracy = session.run(accuracy, feed_dict={\n",
    "        x: valid_features,\n",
    "        y: valid_labels,\n",
    "        keep_prob: 1.0\n",
    "    })\n",
    "\n",
    "    print('Loss: {:>10.4f} Validation Accuracy: {:.6f}'.format(loss, valid_accuracy))"
   ]
  },
  {
   "cell_type": "markdown",
   "metadata": {
    "deletable": true,
    "editable": true
   },
   "source": [
    "### Hyperparameters\n",
    "Tune the following parameters:\n",
    "* Set `epochs` to the number of iterations until the network stops learning or start overfitting\n",
    "* Set `batch_size` to the highest number that your machine has memory for.  Most people set them to common sizes of memory:\n",
    " * 64\n",
    " * 128\n",
    " * 256\n",
    " * ...\n",
    "* Set `keep_probability` to the probability of keeping a node using dropout"
   ]
  },
  {
   "cell_type": "code",
   "execution_count": 105,
   "metadata": {
    "collapsed": true,
    "deletable": true,
    "editable": true
   },
   "outputs": [],
   "source": [
    "# TODO: Tune Parameters\n",
    "epochs = 50\n",
    "batch_size = 1024\n",
    "keep_probability = 0.6"
   ]
  },
  {
   "cell_type": "markdown",
   "metadata": {
    "deletable": true,
    "editable": true
   },
   "source": [
    "### Train on a Single CIFAR-10 Batch\n",
    "Instead of training the neural network on all the CIFAR-10 batches of data, let's use a single batch. This should save time while you iterate on the model to get a better accuracy.  Once the final validation accuracy is 50% or greater, run the model on all the data in the next section."
   ]
  },
  {
   "cell_type": "code",
   "execution_count": 106,
   "metadata": {
    "collapsed": false,
    "deletable": true,
    "editable": true
   },
   "outputs": [
    {
     "name": "stdout",
     "output_type": "stream",
     "text": [
      "Checking the Training on a Single Batch...\n",
      "Epoch  1, CIFAR-10 Batch 1:  Loss:     2.2991 Validation Accuracy: 0.163400\n",
      "Epoch  2, CIFAR-10 Batch 1:  Loss:     2.2617 Validation Accuracy: 0.182600\n",
      "Epoch  3, CIFAR-10 Batch 1:  Loss:     2.2154 Validation Accuracy: 0.199400\n",
      "Epoch  4, CIFAR-10 Batch 1:  Loss:     2.1298 Validation Accuracy: 0.252400\n",
      "Epoch  5, CIFAR-10 Batch 1:  Loss:     2.0862 Validation Accuracy: 0.295600\n",
      "Epoch  6, CIFAR-10 Batch 1:  Loss:     2.0092 Validation Accuracy: 0.309200\n",
      "Epoch  7, CIFAR-10 Batch 1:  Loss:     1.9524 Validation Accuracy: 0.328600\n",
      "Epoch  8, CIFAR-10 Batch 1:  Loss:     1.8334 Validation Accuracy: 0.356800\n",
      "Epoch  9, CIFAR-10 Batch 1:  Loss:     1.7486 Validation Accuracy: 0.378200\n",
      "Epoch 10, CIFAR-10 Batch 1:  Loss:     1.6662 Validation Accuracy: 0.396800\n",
      "Epoch 11, CIFAR-10 Batch 1:  Loss:     1.6136 Validation Accuracy: 0.407400\n",
      "Epoch 12, CIFAR-10 Batch 1:  Loss:     1.5556 Validation Accuracy: 0.423800\n",
      "Epoch 13, CIFAR-10 Batch 1:  Loss:     1.5004 Validation Accuracy: 0.437800\n",
      "Epoch 14, CIFAR-10 Batch 1:  Loss:     1.4567 Validation Accuracy: 0.452200\n",
      "Epoch 15, CIFAR-10 Batch 1:  Loss:     1.4597 Validation Accuracy: 0.440600\n",
      "Epoch 16, CIFAR-10 Batch 1:  Loss:     1.4100 Validation Accuracy: 0.448000\n",
      "Epoch 17, CIFAR-10 Batch 1:  Loss:     1.3548 Validation Accuracy: 0.474400\n",
      "Epoch 18, CIFAR-10 Batch 1:  Loss:     1.3303 Validation Accuracy: 0.473600\n",
      "Epoch 19, CIFAR-10 Batch 1:  Loss:     1.2905 Validation Accuracy: 0.479600\n",
      "Epoch 20, CIFAR-10 Batch 1:  Loss:     1.2679 Validation Accuracy: 0.485000\n",
      "Epoch 21, CIFAR-10 Batch 1:  Loss:     1.2593 Validation Accuracy: 0.487400\n",
      "Epoch 22, CIFAR-10 Batch 1:  Loss:     1.2500 Validation Accuracy: 0.478000\n",
      "Epoch 23, CIFAR-10 Batch 1:  Loss:     1.2163 Validation Accuracy: 0.493600\n",
      "Epoch 24, CIFAR-10 Batch 1:  Loss:     1.1978 Validation Accuracy: 0.503200\n",
      "Epoch 25, CIFAR-10 Batch 1:  Loss:     1.1604 Validation Accuracy: 0.506800\n",
      "Epoch 26, CIFAR-10 Batch 1:  Loss:     1.1355 Validation Accuracy: 0.510400\n",
      "Epoch 27, CIFAR-10 Batch 1:  Loss:     1.1186 Validation Accuracy: 0.512800\n",
      "Epoch 28, CIFAR-10 Batch 1:  Loss:     1.0866 Validation Accuracy: 0.513000\n",
      "Epoch 29, CIFAR-10 Batch 1:  Loss:     1.0753 Validation Accuracy: 0.511200\n",
      "Epoch 30, CIFAR-10 Batch 1:  Loss:     1.0568 Validation Accuracy: 0.517600\n",
      "Epoch 31, CIFAR-10 Batch 1:  Loss:     1.0281 Validation Accuracy: 0.523800\n",
      "Epoch 32, CIFAR-10 Batch 1:  Loss:     1.0819 Validation Accuracy: 0.510000\n",
      "Epoch 33, CIFAR-10 Batch 1:  Loss:     1.0555 Validation Accuracy: 0.508200\n",
      "Epoch 34, CIFAR-10 Batch 1:  Loss:     1.0276 Validation Accuracy: 0.503400\n",
      "Epoch 35, CIFAR-10 Batch 1:  Loss:     0.9747 Validation Accuracy: 0.530800\n",
      "Epoch 36, CIFAR-10 Batch 1:  Loss:     0.9448 Validation Accuracy: 0.539200\n",
      "Epoch 37, CIFAR-10 Batch 1:  Loss:     0.9131 Validation Accuracy: 0.539200\n",
      "Epoch 38, CIFAR-10 Batch 1:  Loss:     0.8982 Validation Accuracy: 0.545400\n",
      "Epoch 39, CIFAR-10 Batch 1:  Loss:     0.8901 Validation Accuracy: 0.544400\n",
      "Epoch 40, CIFAR-10 Batch 1:  Loss:     0.8665 Validation Accuracy: 0.537000\n",
      "Epoch 41, CIFAR-10 Batch 1:  Loss:     0.8577 Validation Accuracy: 0.545400\n",
      "Epoch 42, CIFAR-10 Batch 1:  Loss:     0.8562 Validation Accuracy: 0.544000\n",
      "Epoch 43, CIFAR-10 Batch 1:  Loss:     0.8126 Validation Accuracy: 0.548200\n",
      "Epoch 44, CIFAR-10 Batch 1:  Loss:     0.7803 Validation Accuracy: 0.560000\n",
      "Epoch 45, CIFAR-10 Batch 1:  Loss:     0.8401 Validation Accuracy: 0.530800\n",
      "Epoch 46, CIFAR-10 Batch 1:  Loss:     0.8738 Validation Accuracy: 0.522200\n",
      "Epoch 47, CIFAR-10 Batch 1:  Loss:     0.7621 Validation Accuracy: 0.548400\n",
      "Epoch 48, CIFAR-10 Batch 1:  Loss:     0.8323 Validation Accuracy: 0.536000\n",
      "Epoch 49, CIFAR-10 Batch 1:  Loss:     0.7526 Validation Accuracy: 0.549400\n",
      "Epoch 50, CIFAR-10 Batch 1:  Loss:     0.7745 Validation Accuracy: 0.539800\n"
     ]
    }
   ],
   "source": [
    "\"\"\"\n",
    "DON'T MODIFY ANYTHING IN THIS CELL\n",
    "\"\"\"\n",
    "print('Checking the Training on a Single Batch...')\n",
    "with tf.Session() as sess:\n",
    "    # Initializing the variables\n",
    "    sess.run(tf.global_variables_initializer())\n",
    "    \n",
    "    # Training cycle\n",
    "    for epoch in range(epochs):\n",
    "        batch_i = 1\n",
    "        for batch_features, batch_labels in helper.load_preprocess_training_batch(batch_i, batch_size):\n",
    "            train_neural_network(sess, optimizer, keep_probability, batch_features, batch_labels)\n",
    "        print('Epoch {:>2}, CIFAR-10 Batch {}:  '.format(epoch + 1, batch_i), end='')\n",
    "        print_stats(sess, batch_features, batch_labels, cost, accuracy)"
   ]
  },
  {
   "cell_type": "markdown",
   "metadata": {
    "deletable": true,
    "editable": true
   },
   "source": [
    "### Fully Train the Model\n",
    "Now that you got a good accuracy with a single CIFAR-10 batch, try it with all five batches."
   ]
  },
  {
   "cell_type": "code",
   "execution_count": 107,
   "metadata": {
    "collapsed": false,
    "deletable": true,
    "editable": true
   },
   "outputs": [
    {
     "name": "stdout",
     "output_type": "stream",
     "text": [
      "Training...\n",
      "Epoch  1, CIFAR-10 Batch 1:  Loss:     2.3026 Validation Accuracy: 0.097800\n",
      "Epoch  1, CIFAR-10 Batch 2:  Loss:     2.3015 Validation Accuracy: 0.124800\n",
      "Epoch  1, CIFAR-10 Batch 3:  Loss:     2.2608 Validation Accuracy: 0.176400\n",
      "Epoch  1, CIFAR-10 Batch 4:  Loss:     2.2236 Validation Accuracy: 0.213200\n",
      "Epoch  1, CIFAR-10 Batch 5:  Loss:     2.1716 Validation Accuracy: 0.227200\n",
      "Epoch  2, CIFAR-10 Batch 1:  Loss:     2.1095 Validation Accuracy: 0.271600\n",
      "Epoch  2, CIFAR-10 Batch 2:  Loss:     2.0678 Validation Accuracy: 0.289200\n",
      "Epoch  2, CIFAR-10 Batch 3:  Loss:     1.9686 Validation Accuracy: 0.321600\n",
      "Epoch  2, CIFAR-10 Batch 4:  Loss:     1.9717 Validation Accuracy: 0.333800\n",
      "Epoch  2, CIFAR-10 Batch 5:  Loss:     1.8930 Validation Accuracy: 0.344000\n",
      "Epoch  3, CIFAR-10 Batch 1:  Loss:     1.8515 Validation Accuracy: 0.358200\n",
      "Epoch  3, CIFAR-10 Batch 2:  Loss:     1.8394 Validation Accuracy: 0.377600\n",
      "Epoch  3, CIFAR-10 Batch 3:  Loss:     1.7397 Validation Accuracy: 0.393000\n",
      "Epoch  3, CIFAR-10 Batch 4:  Loss:     1.6732 Validation Accuracy: 0.416800\n",
      "Epoch  3, CIFAR-10 Batch 5:  Loss:     1.5662 Validation Accuracy: 0.424800\n",
      "Epoch  4, CIFAR-10 Batch 1:  Loss:     1.5476 Validation Accuracy: 0.431400\n",
      "Epoch  4, CIFAR-10 Batch 2:  Loss:     1.5646 Validation Accuracy: 0.433400\n",
      "Epoch  4, CIFAR-10 Batch 3:  Loss:     1.4352 Validation Accuracy: 0.452800\n",
      "Epoch  4, CIFAR-10 Batch 4:  Loss:     1.4367 Validation Accuracy: 0.468600\n",
      "Epoch  4, CIFAR-10 Batch 5:  Loss:     1.3951 Validation Accuracy: 0.479400\n",
      "Epoch  5, CIFAR-10 Batch 1:  Loss:     1.3908 Validation Accuracy: 0.467000\n",
      "Epoch  5, CIFAR-10 Batch 2:  Loss:     1.4451 Validation Accuracy: 0.475600\n",
      "Epoch  5, CIFAR-10 Batch 3:  Loss:     1.3351 Validation Accuracy: 0.483200\n",
      "Epoch  5, CIFAR-10 Batch 4:  Loss:     1.3262 Validation Accuracy: 0.489400\n",
      "Epoch  5, CIFAR-10 Batch 5:  Loss:     1.2872 Validation Accuracy: 0.510600\n",
      "Epoch  6, CIFAR-10 Batch 1:  Loss:     1.3141 Validation Accuracy: 0.489400\n",
      "Epoch  6, CIFAR-10 Batch 2:  Loss:     1.3191 Validation Accuracy: 0.514000\n",
      "Epoch  6, CIFAR-10 Batch 3:  Loss:     1.2447 Validation Accuracy: 0.516600\n",
      "Epoch  6, CIFAR-10 Batch 4:  Loss:     1.2412 Validation Accuracy: 0.519400\n",
      "Epoch  6, CIFAR-10 Batch 5:  Loss:     1.2167 Validation Accuracy: 0.528000\n",
      "Epoch  7, CIFAR-10 Batch 1:  Loss:     1.2495 Validation Accuracy: 0.513600\n",
      "Epoch  7, CIFAR-10 Batch 2:  Loss:     1.3010 Validation Accuracy: 0.503200\n",
      "Epoch  7, CIFAR-10 Batch 3:  Loss:     1.2232 Validation Accuracy: 0.522200\n",
      "Epoch  7, CIFAR-10 Batch 4:  Loss:     1.1979 Validation Accuracy: 0.530400\n",
      "Epoch  7, CIFAR-10 Batch 5:  Loss:     1.1741 Validation Accuracy: 0.536400\n",
      "Epoch  8, CIFAR-10 Batch 1:  Loss:     1.1882 Validation Accuracy: 0.530600\n",
      "Epoch  8, CIFAR-10 Batch 2:  Loss:     1.1929 Validation Accuracy: 0.536400\n",
      "Epoch  8, CIFAR-10 Batch 3:  Loss:     1.2081 Validation Accuracy: 0.530400\n",
      "Epoch  8, CIFAR-10 Batch 4:  Loss:     1.1687 Validation Accuracy: 0.546200\n",
      "Epoch  8, CIFAR-10 Batch 5:  Loss:     1.1085 Validation Accuracy: 0.553200\n",
      "Epoch  9, CIFAR-10 Batch 1:  Loss:     1.1511 Validation Accuracy: 0.537600\n",
      "Epoch  9, CIFAR-10 Batch 2:  Loss:     1.1644 Validation Accuracy: 0.549000\n",
      "Epoch  9, CIFAR-10 Batch 3:  Loss:     1.1278 Validation Accuracy: 0.551400\n",
      "Epoch  9, CIFAR-10 Batch 4:  Loss:     1.1135 Validation Accuracy: 0.559400\n",
      "Epoch  9, CIFAR-10 Batch 5:  Loss:     1.0754 Validation Accuracy: 0.561400\n",
      "Epoch 10, CIFAR-10 Batch 1:  Loss:     1.0828 Validation Accuracy: 0.558400\n",
      "Epoch 10, CIFAR-10 Batch 2:  Loss:     1.1168 Validation Accuracy: 0.565800\n",
      "Epoch 10, CIFAR-10 Batch 3:  Loss:     1.0989 Validation Accuracy: 0.562200\n",
      "Epoch 10, CIFAR-10 Batch 4:  Loss:     1.0754 Validation Accuracy: 0.565400\n",
      "Epoch 10, CIFAR-10 Batch 5:  Loss:     1.0499 Validation Accuracy: 0.563600\n",
      "Epoch 11, CIFAR-10 Batch 1:  Loss:     1.0607 Validation Accuracy: 0.562200\n",
      "Epoch 11, CIFAR-10 Batch 2:  Loss:     1.0830 Validation Accuracy: 0.575600\n",
      "Epoch 11, CIFAR-10 Batch 3:  Loss:     1.0956 Validation Accuracy: 0.559800\n",
      "Epoch 11, CIFAR-10 Batch 4:  Loss:     1.0563 Validation Accuracy: 0.570600\n",
      "Epoch 11, CIFAR-10 Batch 5:  Loss:     0.9980 Validation Accuracy: 0.581600\n",
      "Epoch 12, CIFAR-10 Batch 1:  Loss:     1.0288 Validation Accuracy: 0.569600\n",
      "Epoch 12, CIFAR-10 Batch 2:  Loss:     1.0705 Validation Accuracy: 0.573200\n",
      "Epoch 12, CIFAR-10 Batch 3:  Loss:     1.0401 Validation Accuracy: 0.578600\n",
      "Epoch 12, CIFAR-10 Batch 4:  Loss:     1.0255 Validation Accuracy: 0.573600\n",
      "Epoch 12, CIFAR-10 Batch 5:  Loss:     0.9920 Validation Accuracy: 0.573000\n",
      "Epoch 13, CIFAR-10 Batch 1:  Loss:     0.9989 Validation Accuracy: 0.582600\n",
      "Epoch 13, CIFAR-10 Batch 2:  Loss:     1.0322 Validation Accuracy: 0.584800\n",
      "Epoch 13, CIFAR-10 Batch 3:  Loss:     0.9981 Validation Accuracy: 0.585600\n",
      "Epoch 13, CIFAR-10 Batch 4:  Loss:     0.9911 Validation Accuracy: 0.587600\n",
      "Epoch 13, CIFAR-10 Batch 5:  Loss:     0.9480 Validation Accuracy: 0.581400\n",
      "Epoch 14, CIFAR-10 Batch 1:  Loss:     0.9685 Validation Accuracy: 0.593000\n",
      "Epoch 14, CIFAR-10 Batch 2:  Loss:     1.0073 Validation Accuracy: 0.592600\n",
      "Epoch 14, CIFAR-10 Batch 3:  Loss:     0.9783 Validation Accuracy: 0.594600\n",
      "Epoch 14, CIFAR-10 Batch 4:  Loss:     0.9648 Validation Accuracy: 0.593000\n",
      "Epoch 14, CIFAR-10 Batch 5:  Loss:     0.9243 Validation Accuracy: 0.587200\n",
      "Epoch 15, CIFAR-10 Batch 1:  Loss:     0.9349 Validation Accuracy: 0.601000\n",
      "Epoch 15, CIFAR-10 Batch 2:  Loss:     0.9838 Validation Accuracy: 0.597600\n",
      "Epoch 15, CIFAR-10 Batch 3:  Loss:     0.9633 Validation Accuracy: 0.602200\n",
      "Epoch 15, CIFAR-10 Batch 4:  Loss:     0.9424 Validation Accuracy: 0.591600\n",
      "Epoch 15, CIFAR-10 Batch 5:  Loss:     0.9045 Validation Accuracy: 0.591600\n",
      "Epoch 16, CIFAR-10 Batch 1:  Loss:     0.9198 Validation Accuracy: 0.602600\n",
      "Epoch 16, CIFAR-10 Batch 2:  Loss:     0.9433 Validation Accuracy: 0.605400\n",
      "Epoch 16, CIFAR-10 Batch 3:  Loss:     0.9423 Validation Accuracy: 0.599000\n",
      "Epoch 16, CIFAR-10 Batch 4:  Loss:     0.9192 Validation Accuracy: 0.596200\n",
      "Epoch 16, CIFAR-10 Batch 5:  Loss:     0.8722 Validation Accuracy: 0.595800\n",
      "Epoch 17, CIFAR-10 Batch 1:  Loss:     0.8986 Validation Accuracy: 0.609800\n",
      "Epoch 17, CIFAR-10 Batch 2:  Loss:     0.9235 Validation Accuracy: 0.607400\n",
      "Epoch 17, CIFAR-10 Batch 3:  Loss:     0.9288 Validation Accuracy: 0.604200\n",
      "Epoch 17, CIFAR-10 Batch 4:  Loss:     0.9014 Validation Accuracy: 0.596400\n",
      "Epoch 17, CIFAR-10 Batch 5:  Loss:     0.8562 Validation Accuracy: 0.604400\n",
      "Epoch 18, CIFAR-10 Batch 1:  Loss:     0.8793 Validation Accuracy: 0.616000\n",
      "Epoch 18, CIFAR-10 Batch 2:  Loss:     0.9047 Validation Accuracy: 0.609600\n",
      "Epoch 18, CIFAR-10 Batch 3:  Loss:     0.8942 Validation Accuracy: 0.611400\n",
      "Epoch 18, CIFAR-10 Batch 4:  Loss:     0.8548 Validation Accuracy: 0.612400\n",
      "Epoch 18, CIFAR-10 Batch 5:  Loss:     0.8253 Validation Accuracy: 0.609400\n",
      "Epoch 19, CIFAR-10 Batch 1:  Loss:     0.8809 Validation Accuracy: 0.613600\n",
      "Epoch 19, CIFAR-10 Batch 2:  Loss:     0.9089 Validation Accuracy: 0.604200\n",
      "Epoch 19, CIFAR-10 Batch 3:  Loss:     0.8768 Validation Accuracy: 0.613400\n",
      "Epoch 19, CIFAR-10 Batch 4:  Loss:     0.8429 Validation Accuracy: 0.610400\n",
      "Epoch 19, CIFAR-10 Batch 5:  Loss:     0.8164 Validation Accuracy: 0.611600\n",
      "Epoch 20, CIFAR-10 Batch 1:  Loss:     0.8453 Validation Accuracy: 0.627400\n",
      "Epoch 20, CIFAR-10 Batch 2:  Loss:     0.8647 Validation Accuracy: 0.613800\n",
      "Epoch 20, CIFAR-10 Batch 3:  Loss:     0.8342 Validation Accuracy: 0.625200\n",
      "Epoch 20, CIFAR-10 Batch 4:  Loss:     0.8616 Validation Accuracy: 0.602200\n",
      "Epoch 20, CIFAR-10 Batch 5:  Loss:     0.7945 Validation Accuracy: 0.616000\n",
      "Epoch 21, CIFAR-10 Batch 1:  Loss:     0.8116 Validation Accuracy: 0.624800\n",
      "Epoch 21, CIFAR-10 Batch 2:  Loss:     0.8835 Validation Accuracy: 0.609400\n",
      "Epoch 21, CIFAR-10 Batch 3:  Loss:     0.8563 Validation Accuracy: 0.603600\n",
      "Epoch 21, CIFAR-10 Batch 4:  Loss:     0.8085 Validation Accuracy: 0.624200\n",
      "Epoch 21, CIFAR-10 Batch 5:  Loss:     0.7714 Validation Accuracy: 0.624400\n",
      "Epoch 22, CIFAR-10 Batch 1:  Loss:     0.8083 Validation Accuracy: 0.627600\n",
      "Epoch 22, CIFAR-10 Batch 2:  Loss:     0.8732 Validation Accuracy: 0.606400\n",
      "Epoch 22, CIFAR-10 Batch 3:  Loss:     0.8079 Validation Accuracy: 0.616800\n",
      "Epoch 22, CIFAR-10 Batch 4:  Loss:     0.8113 Validation Accuracy: 0.612200\n",
      "Epoch 22, CIFAR-10 Batch 5:  Loss:     0.7642 Validation Accuracy: 0.626800\n",
      "Epoch 23, CIFAR-10 Batch 1:  Loss:     0.7864 Validation Accuracy: 0.630200\n",
      "Epoch 23, CIFAR-10 Batch 2:  Loss:     0.8327 Validation Accuracy: 0.628200\n",
      "Epoch 23, CIFAR-10 Batch 3:  Loss:     0.7864 Validation Accuracy: 0.632200\n",
      "Epoch 23, CIFAR-10 Batch 4:  Loss:     0.8133 Validation Accuracy: 0.614000\n",
      "Epoch 23, CIFAR-10 Batch 5:  Loss:     0.7518 Validation Accuracy: 0.631000\n",
      "Epoch 24, CIFAR-10 Batch 1:  Loss:     0.8001 Validation Accuracy: 0.625000\n",
      "Epoch 24, CIFAR-10 Batch 2:  Loss:     0.7960 Validation Accuracy: 0.631000\n",
      "Epoch 24, CIFAR-10 Batch 3:  Loss:     0.7759 Validation Accuracy: 0.629000\n",
      "Epoch 24, CIFAR-10 Batch 4:  Loss:     0.7772 Validation Accuracy: 0.627200\n",
      "Epoch 24, CIFAR-10 Batch 5:  Loss:     0.7494 Validation Accuracy: 0.628200\n",
      "Epoch 25, CIFAR-10 Batch 1:  Loss:     0.7662 Validation Accuracy: 0.627000\n",
      "Epoch 25, CIFAR-10 Batch 2:  Loss:     0.8178 Validation Accuracy: 0.617600\n",
      "Epoch 25, CIFAR-10 Batch 3:  Loss:     0.7635 Validation Accuracy: 0.629000\n",
      "Epoch 25, CIFAR-10 Batch 4:  Loss:     0.7481 Validation Accuracy: 0.635600\n",
      "Epoch 25, CIFAR-10 Batch 5:  Loss:     0.7326 Validation Accuracy: 0.636200\n",
      "Epoch 26, CIFAR-10 Batch 1:  Loss:     0.7418 Validation Accuracy: 0.634200\n",
      "Epoch 26, CIFAR-10 Batch 2:  Loss:     0.7975 Validation Accuracy: 0.622400\n",
      "Epoch 26, CIFAR-10 Batch 3:  Loss:     0.7388 Validation Accuracy: 0.638000\n",
      "Epoch 26, CIFAR-10 Batch 4:  Loss:     0.7354 Validation Accuracy: 0.632800\n",
      "Epoch 26, CIFAR-10 Batch 5:  Loss:     0.7243 Validation Accuracy: 0.639400\n",
      "Epoch 27, CIFAR-10 Batch 1:  Loss:     0.7309 Validation Accuracy: 0.637600\n",
      "Epoch 27, CIFAR-10 Batch 2:  Loss:     0.8110 Validation Accuracy: 0.620000\n",
      "Epoch 27, CIFAR-10 Batch 3:  Loss:     0.7727 Validation Accuracy: 0.630800\n",
      "Epoch 27, CIFAR-10 Batch 4:  Loss:     0.7694 Validation Accuracy: 0.618600\n",
      "Epoch 27, CIFAR-10 Batch 5:  Loss:     0.7090 Validation Accuracy: 0.641200\n",
      "Epoch 28, CIFAR-10 Batch 1:  Loss:     0.7441 Validation Accuracy: 0.625200\n",
      "Epoch 28, CIFAR-10 Batch 2:  Loss:     0.7589 Validation Accuracy: 0.639600\n",
      "Epoch 28, CIFAR-10 Batch 3:  Loss:     0.7640 Validation Accuracy: 0.622000\n",
      "Epoch 28, CIFAR-10 Batch 4:  Loss:     0.7400 Validation Accuracy: 0.629400\n",
      "Epoch 28, CIFAR-10 Batch 5:  Loss:     0.7401 Validation Accuracy: 0.626800\n",
      "Epoch 29, CIFAR-10 Batch 1:  Loss:     0.7052 Validation Accuracy: 0.641400\n",
      "Epoch 29, CIFAR-10 Batch 2:  Loss:     0.7619 Validation Accuracy: 0.636600\n",
      "Epoch 29, CIFAR-10 Batch 3:  Loss:     0.7460 Validation Accuracy: 0.632200\n",
      "Epoch 29, CIFAR-10 Batch 4:  Loss:     0.7043 Validation Accuracy: 0.638600\n",
      "Epoch 29, CIFAR-10 Batch 5:  Loss:     0.7141 Validation Accuracy: 0.637600\n",
      "Epoch 30, CIFAR-10 Batch 1:  Loss:     0.6932 Validation Accuracy: 0.644000\n",
      "Epoch 30, CIFAR-10 Batch 2:  Loss:     0.7747 Validation Accuracy: 0.628800\n",
      "Epoch 30, CIFAR-10 Batch 3:  Loss:     0.7163 Validation Accuracy: 0.642000\n",
      "Epoch 30, CIFAR-10 Batch 4:  Loss:     0.7063 Validation Accuracy: 0.639400\n",
      "Epoch 30, CIFAR-10 Batch 5:  Loss:     0.7260 Validation Accuracy: 0.629000\n",
      "Epoch 31, CIFAR-10 Batch 1:  Loss:     0.6723 Validation Accuracy: 0.648200\n",
      "Epoch 31, CIFAR-10 Batch 2:  Loss:     0.7297 Validation Accuracy: 0.648800\n",
      "Epoch 31, CIFAR-10 Batch 3:  Loss:     0.6832 Validation Accuracy: 0.643600\n",
      "Epoch 31, CIFAR-10 Batch 4:  Loss:     0.6839 Validation Accuracy: 0.648800\n",
      "Epoch 31, CIFAR-10 Batch 5:  Loss:     0.6942 Validation Accuracy: 0.628600\n",
      "Epoch 32, CIFAR-10 Batch 1:  Loss:     0.6693 Validation Accuracy: 0.648000\n",
      "Epoch 32, CIFAR-10 Batch 2:  Loss:     0.7210 Validation Accuracy: 0.650800\n",
      "Epoch 32, CIFAR-10 Batch 3:  Loss:     0.6533 Validation Accuracy: 0.652200\n",
      "Epoch 32, CIFAR-10 Batch 4:  Loss:     0.6679 Validation Accuracy: 0.647800\n",
      "Epoch 32, CIFAR-10 Batch 5:  Loss:     0.6866 Validation Accuracy: 0.629400\n",
      "Epoch 33, CIFAR-10 Batch 1:  Loss:     0.6627 Validation Accuracy: 0.651200\n",
      "Epoch 33, CIFAR-10 Batch 2:  Loss:     0.7017 Validation Accuracy: 0.650000\n",
      "Epoch 33, CIFAR-10 Batch 3:  Loss:     0.6498 Validation Accuracy: 0.652600\n",
      "Epoch 33, CIFAR-10 Batch 4:  Loss:     0.6562 Validation Accuracy: 0.647000\n",
      "Epoch 33, CIFAR-10 Batch 5:  Loss:     0.6610 Validation Accuracy: 0.636200\n",
      "Epoch 34, CIFAR-10 Batch 1:  Loss:     0.6520 Validation Accuracy: 0.645800\n",
      "Epoch 34, CIFAR-10 Batch 2:  Loss:     0.6849 Validation Accuracy: 0.654000\n",
      "Epoch 34, CIFAR-10 Batch 3:  Loss:     0.6358 Validation Accuracy: 0.654000\n",
      "Epoch 34, CIFAR-10 Batch 4:  Loss:     0.6434 Validation Accuracy: 0.649800\n",
      "Epoch 34, CIFAR-10 Batch 5:  Loss:     0.6545 Validation Accuracy: 0.634800\n",
      "Epoch 35, CIFAR-10 Batch 1:  Loss:     0.6252 Validation Accuracy: 0.655600\n",
      "Epoch 35, CIFAR-10 Batch 2:  Loss:     0.6668 Validation Accuracy: 0.657400\n",
      "Epoch 35, CIFAR-10 Batch 3:  Loss:     0.6254 Validation Accuracy: 0.651400\n",
      "Epoch 35, CIFAR-10 Batch 4:  Loss:     0.6517 Validation Accuracy: 0.642800\n",
      "Epoch 35, CIFAR-10 Batch 5:  Loss:     0.6416 Validation Accuracy: 0.638800\n",
      "Epoch 36, CIFAR-10 Batch 1:  Loss:     0.6105 Validation Accuracy: 0.656600\n",
      "Epoch 36, CIFAR-10 Batch 2:  Loss:     0.6628 Validation Accuracy: 0.658800\n",
      "Epoch 36, CIFAR-10 Batch 3:  Loss:     0.6101 Validation Accuracy: 0.654200\n",
      "Epoch 36, CIFAR-10 Batch 4:  Loss:     0.6162 Validation Accuracy: 0.652200\n",
      "Epoch 36, CIFAR-10 Batch 5:  Loss:     0.6300 Validation Accuracy: 0.633400\n",
      "Epoch 37, CIFAR-10 Batch 1:  Loss:     0.5944 Validation Accuracy: 0.655000\n",
      "Epoch 37, CIFAR-10 Batch 2:  Loss:     0.6491 Validation Accuracy: 0.661000\n",
      "Epoch 37, CIFAR-10 Batch 3:  Loss:     0.5893 Validation Accuracy: 0.652400\n",
      "Epoch 37, CIFAR-10 Batch 4:  Loss:     0.6152 Validation Accuracy: 0.651400\n",
      "Epoch 37, CIFAR-10 Batch 5:  Loss:     0.6082 Validation Accuracy: 0.645600\n",
      "Epoch 38, CIFAR-10 Batch 1:  Loss:     0.5851 Validation Accuracy: 0.654400\n",
      "Epoch 38, CIFAR-10 Batch 2:  Loss:     0.6326 Validation Accuracy: 0.657800\n",
      "Epoch 38, CIFAR-10 Batch 3:  Loss:     0.5925 Validation Accuracy: 0.655600\n",
      "Epoch 38, CIFAR-10 Batch 4:  Loss:     0.6029 Validation Accuracy: 0.647600\n",
      "Epoch 38, CIFAR-10 Batch 5:  Loss:     0.6135 Validation Accuracy: 0.641000\n",
      "Epoch 39, CIFAR-10 Batch 1:  Loss:     0.5890 Validation Accuracy: 0.651000\n",
      "Epoch 39, CIFAR-10 Batch 2:  Loss:     0.6386 Validation Accuracy: 0.655000\n",
      "Epoch 39, CIFAR-10 Batch 3:  Loss:     0.6036 Validation Accuracy: 0.647800\n",
      "Epoch 39, CIFAR-10 Batch 4:  Loss:     0.5773 Validation Accuracy: 0.652400\n",
      "Epoch 39, CIFAR-10 Batch 5:  Loss:     0.6112 Validation Accuracy: 0.642200\n",
      "Epoch 40, CIFAR-10 Batch 1:  Loss:     0.5983 Validation Accuracy: 0.646200\n",
      "Epoch 40, CIFAR-10 Batch 2:  Loss:     0.6257 Validation Accuracy: 0.654000\n",
      "Epoch 40, CIFAR-10 Batch 3:  Loss:     0.5808 Validation Accuracy: 0.654800\n",
      "Epoch 40, CIFAR-10 Batch 4:  Loss:     0.6051 Validation Accuracy: 0.641600\n",
      "Epoch 40, CIFAR-10 Batch 5:  Loss:     0.6325 Validation Accuracy: 0.632600\n",
      "Epoch 41, CIFAR-10 Batch 1:  Loss:     0.5796 Validation Accuracy: 0.653200\n",
      "Epoch 41, CIFAR-10 Batch 2:  Loss:     0.5962 Validation Accuracy: 0.657200\n",
      "Epoch 41, CIFAR-10 Batch 3:  Loss:     0.5650 Validation Accuracy: 0.656000\n",
      "Epoch 41, CIFAR-10 Batch 4:  Loss:     0.5828 Validation Accuracy: 0.652400\n",
      "Epoch 41, CIFAR-10 Batch 5:  Loss:     0.5987 Validation Accuracy: 0.644200\n",
      "Epoch 42, CIFAR-10 Batch 1:  Loss:     0.5505 Validation Accuracy: 0.656000\n",
      "Epoch 42, CIFAR-10 Batch 2:  Loss:     0.5868 Validation Accuracy: 0.658200\n",
      "Epoch 42, CIFAR-10 Batch 3:  Loss:     0.5731 Validation Accuracy: 0.651400\n",
      "Epoch 42, CIFAR-10 Batch 4:  Loss:     0.5792 Validation Accuracy: 0.647200\n",
      "Epoch 42, CIFAR-10 Batch 5:  Loss:     0.5984 Validation Accuracy: 0.640000\n",
      "Epoch 43, CIFAR-10 Batch 1:  Loss:     0.5507 Validation Accuracy: 0.659400\n",
      "Epoch 43, CIFAR-10 Batch 2:  Loss:     0.5901 Validation Accuracy: 0.656600\n",
      "Epoch 43, CIFAR-10 Batch 3:  Loss:     0.5652 Validation Accuracy: 0.656000\n",
      "Epoch 43, CIFAR-10 Batch 4:  Loss:     0.5736 Validation Accuracy: 0.644800\n",
      "Epoch 43, CIFAR-10 Batch 5:  Loss:     0.5826 Validation Accuracy: 0.650800\n",
      "Epoch 44, CIFAR-10 Batch 1:  Loss:     0.5357 Validation Accuracy: 0.659000\n",
      "Epoch 44, CIFAR-10 Batch 2:  Loss:     0.5890 Validation Accuracy: 0.653200\n",
      "Epoch 44, CIFAR-10 Batch 3:  Loss:     0.5450 Validation Accuracy: 0.662200\n",
      "Epoch 44, CIFAR-10 Batch 4:  Loss:     0.5630 Validation Accuracy: 0.649000\n",
      "Epoch 44, CIFAR-10 Batch 5:  Loss:     0.5732 Validation Accuracy: 0.640200\n",
      "Epoch 45, CIFAR-10 Batch 1:  Loss:     0.5164 Validation Accuracy: 0.658200\n",
      "Epoch 45, CIFAR-10 Batch 2:  Loss:     0.5715 Validation Accuracy: 0.654800\n",
      "Epoch 45, CIFAR-10 Batch 3:  Loss:     0.5315 Validation Accuracy: 0.663800\n",
      "Epoch 45, CIFAR-10 Batch 4:  Loss:     0.5628 Validation Accuracy: 0.644800\n",
      "Epoch 45, CIFAR-10 Batch 5:  Loss:     0.5580 Validation Accuracy: 0.640600\n",
      "Epoch 46, CIFAR-10 Batch 1:  Loss:     0.5231 Validation Accuracy: 0.656600\n",
      "Epoch 46, CIFAR-10 Batch 2:  Loss:     0.5429 Validation Accuracy: 0.656000\n",
      "Epoch 46, CIFAR-10 Batch 3:  Loss:     0.5331 Validation Accuracy: 0.663200\n",
      "Epoch 46, CIFAR-10 Batch 4:  Loss:     0.5315 Validation Accuracy: 0.645800\n",
      "Epoch 46, CIFAR-10 Batch 5:  Loss:     0.5598 Validation Accuracy: 0.637600\n",
      "Epoch 47, CIFAR-10 Batch 1:  Loss:     0.5055 Validation Accuracy: 0.663200\n",
      "Epoch 47, CIFAR-10 Batch 2:  Loss:     0.5379 Validation Accuracy: 0.656800\n",
      "Epoch 47, CIFAR-10 Batch 3:  Loss:     0.5146 Validation Accuracy: 0.661800\n",
      "Epoch 47, CIFAR-10 Batch 4:  Loss:     0.5615 Validation Accuracy: 0.638200\n",
      "Epoch 47, CIFAR-10 Batch 5:  Loss:     0.5669 Validation Accuracy: 0.634200\n",
      "Epoch 48, CIFAR-10 Batch 1:  Loss:     0.5309 Validation Accuracy: 0.657800\n",
      "Epoch 48, CIFAR-10 Batch 2:  Loss:     0.5625 Validation Accuracy: 0.654000\n",
      "Epoch 48, CIFAR-10 Batch 3:  Loss:     0.5040 Validation Accuracy: 0.663200\n",
      "Epoch 48, CIFAR-10 Batch 4:  Loss:     0.5342 Validation Accuracy: 0.640000\n",
      "Epoch 48, CIFAR-10 Batch 5:  Loss:     0.5207 Validation Accuracy: 0.649800\n",
      "Epoch 49, CIFAR-10 Batch 1:  Loss:     0.5257 Validation Accuracy: 0.654600\n",
      "Epoch 49, CIFAR-10 Batch 2:  Loss:     0.5618 Validation Accuracy: 0.655200\n",
      "Epoch 49, CIFAR-10 Batch 3:  Loss:     0.5187 Validation Accuracy: 0.656400\n",
      "Epoch 49, CIFAR-10 Batch 4:  Loss:     0.5113 Validation Accuracy: 0.648800\n",
      "Epoch 49, CIFAR-10 Batch 5:  Loss:     0.5040 Validation Accuracy: 0.657200\n",
      "Epoch 50, CIFAR-10 Batch 1:  Loss:     0.5192 Validation Accuracy: 0.654400\n",
      "Epoch 50, CIFAR-10 Batch 2:  Loss:     0.5624 Validation Accuracy: 0.650400\n",
      "Epoch 50, CIFAR-10 Batch 3:  Loss:     0.5620 Validation Accuracy: 0.651400\n",
      "Epoch 50, CIFAR-10 Batch 4:  Loss:     0.5442 Validation Accuracy: 0.641000\n",
      "Epoch 50, CIFAR-10 Batch 5:  Loss:     0.5002 Validation Accuracy: 0.658600\n"
     ]
    }
   ],
   "source": [
    "\"\"\"\n",
    "DON'T MODIFY ANYTHING IN THIS CELL\n",
    "\"\"\"\n",
    "save_model_path = './image_classification'\n",
    "\n",
    "print('Training...')\n",
    "with tf.Session() as sess:\n",
    "    # Initializing the variables\n",
    "    sess.run(tf.global_variables_initializer())\n",
    "    \n",
    "    # Training cycle\n",
    "    for epoch in range(epochs):\n",
    "        # Loop over all batches\n",
    "        n_batches = 5\n",
    "        for batch_i in range(1, n_batches + 1):\n",
    "            for batch_features, batch_labels in helper.load_preprocess_training_batch(batch_i, batch_size):\n",
    "                train_neural_network(sess, optimizer, keep_probability, batch_features, batch_labels)\n",
    "            print('Epoch {:>2}, CIFAR-10 Batch {}:  '.format(epoch + 1, batch_i), end='')\n",
    "            print_stats(sess, batch_features, batch_labels, cost, accuracy)\n",
    "            \n",
    "    # Save Model\n",
    "    saver = tf.train.Saver()\n",
    "    save_path = saver.save(sess, save_model_path)"
   ]
  },
  {
   "cell_type": "markdown",
   "metadata": {
    "deletable": true,
    "editable": true
   },
   "source": [
    "# Checkpoint\n",
    "The model has been saved to disk.\n",
    "## Test Model\n",
    "Test your model against the test dataset.  This will be your final accuracy. You should have an accuracy greater than 50%. If you don't, keep tweaking the model architecture and parameters."
   ]
  },
  {
   "cell_type": "code",
   "execution_count": 113,
   "metadata": {
    "collapsed": false,
    "deletable": true,
    "editable": true
   },
   "outputs": [
    {
     "name": "stdout",
     "output_type": "stream",
     "text": [
      "Testing Accuracy: 0.6570073306560517\n",
      "\n"
     ]
    },
    {
     "data": {
      "image/png": "[encoded data removed]",
      "text/plain": [
       "<matplotlib.figure.Figure at 0x7f98c6aa4438>"
      ]
     },
     "metadata": {
      "image/png": {
       "height": 319,
       "width": 355
      }
     },
     "output_type": "display_data"
    }
   ],
   "source": [
    "\"\"\"\n",
    "DON'T MODIFY ANYTHING IN THIS CELL\n",
    "\"\"\"\n",
    "%matplotlib inline\n",
    "%config InlineBackend.figure_format = 'retina'\n",
    "\n",
    "import tensorflow as tf\n",
    "import pickle\n",
    "import helper\n",
    "import random\n",
    "\n",
    "# Set batch size if not already set\n",
    "try:\n",
    "    if batch_size:\n",
    "        pass\n",
    "except NameError:\n",
    "    batch_size = 64\n",
    "\n",
    "save_model_path = './image_classification'\n",
    "n_samples = 4\n",
    "top_n_predictions = 3\n",
    "\n",
    "def test_model():\n",
    "    \"\"\"\n",
    "    Test the saved model against the test dataset\n",
    "    \"\"\"\n",
    "\n",
    "    test_features, test_labels = pickle.load(open('preprocess_test.p', mode='rb'))\n",
    "    loaded_graph = tf.Graph()\n",
    "\n",
    "    with tf.Session(graph=loaded_graph) as sess:\n",
    "        # Load model\n",
    "        loader = tf.train.import_meta_graph(save_model_path + '.meta')\n",
    "        loader.restore(sess, save_model_path)\n",
    "\n",
    "        # Get Tensors from loaded model\n",
    "        loaded_x = loaded_graph.get_tensor_by_name('x:0')\n",
    "        loaded_y = loaded_graph.get_tensor_by_name('y:0')\n",
    "        loaded_keep_prob = loaded_graph.get_tensor_by_name('keep_prob:0')\n",
    "        loaded_logits = loaded_graph.get_tensor_by_name('logits:0')\n",
    "        loaded_acc = loaded_graph.get_tensor_by_name('accuracy:0')\n",
    "        \n",
    "        # Get accuracy in batches for memory limitations\n",
    "        test_batch_acc_total = 0\n",
    "        test_batch_count = 0\n",
    "        \n",
    "        for test_feature_batch, test_label_batch in helper.batch_features_labels(test_features, test_labels, batch_size):\n",
    "            test_batch_acc_total += sess.run(\n",
    "                loaded_acc,\n",
    "                feed_dict={loaded_x: test_feature_batch, loaded_y: test_label_batch, loaded_keep_prob: 1.0})\n",
    "            test_batch_count += 1\n",
    "\n",
    "        print('Testing Accuracy: {}\\n'.format(test_batch_acc_total/test_batch_count))\n",
    "\n",
    "        # Print Random Samples\n",
    "        random_test_features, random_test_labels = tuple(zip(*random.sample(list(zip(test_features, test_labels)), n_samples)))\n",
    "        random_test_predictions = sess.run(\n",
    "            tf.nn.top_k(tf.nn.softmax(loaded_logits), top_n_predictions),\n",
    "            feed_dict={loaded_x: random_test_features, loaded_y: random_test_labels, loaded_keep_prob: 1.0})\n",
    "        helper.display_image_predictions(random_test_features, random_test_labels, random_test_predictions)\n",
    "\n",
    "\n",
    "test_model()"
   ]
  },
  {
   "cell_type": "markdown",
   "metadata": {
    "deletable": true,
    "editable": true
   },
   "source": [
    "## Why 50-80% Accuracy?\n",
    "You might be wondering why you can't get an accuracy any higher. First things first, 50% isn't bad for a simple CNN.  Pure guessing would get you 10% accuracy. However, you might notice people are getting scores [well above 80%](http://rodrigob.github.io/are_we_there_yet/build/classification_datasets_results.html#43494641522d3130).  That's because we haven't taught you all there is to know about neural networks. We still need to cover a few more techniques.\n",
    "## Submitting This Project\n",
    "When submitting this project, make sure to run all the cells before saving the notebook.  Save the notebook file as \"dlnd_image_classification.ipynb\" and save it as a HTML file under \"File\" -> \"Download as\".  Include the \"helper.py\" and \"problem_unittests.py\" files in your submission."
   ]
  },
  {
   "cell_type": "code",
   "execution_count": null,
   "metadata": {
    "collapsed": true
   },
   "outputs": [],
   "source": []
  }
 ],
 "metadata": {
  "kernelspec": {
   "display_name": "Python 3",
   "language": "python",
   "name": "python3"
  },
  "language_info": {
   "codemirror_mode": {
    "name": "ipython",
    "version": 3
   },
   "file_extension": ".py",
   "mimetype": "text/x-python",
   "name": "python",
   "nbconvert_exporter": "python",
   "pygments_lexer": "ipython3",
   "version": "3.5.2"
  },
  "widgets": {
   "state": {},
   "version": "1.1.2"
  }
 },
 "nbformat": 4,
 "nbformat_minor": 0
}
